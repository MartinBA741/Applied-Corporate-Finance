{
 "cells": [
  {
   "cell_type": "code",
   "execution_count": 1,
   "metadata": {},
   "outputs": [],
   "source": [
    "# %reset"
   ]
  },
  {
   "cell_type": "code",
   "execution_count": 2,
   "metadata": {},
   "outputs": [],
   "source": [
    "import numpy as np\n",
    "import pandas as pd\n",
    "import matplotlib.pyplot as plt\n",
    "import pandas_datareader as pdr\n",
    "import math\n",
    "import datetime \n",
    "import scipy.optimize as sco\n",
    "import scipy.interpolate as sci\n",
    "from scipy.stats import describe\n",
    "from scipy import stats\n",
    "from pylab import plt, mpl\n",
    "from statsmodels.graphics.tsaplots import plot_acf\n",
    "from matplotlib import pyplot\n",
    "import random"
   ]
  },
  {
   "cell_type": "code",
   "execution_count": 3,
   "metadata": {},
   "outputs": [],
   "source": [
    "from arch import arch_model\n",
    "import matrix_optimize\n",
    "from matrix_optimize import port_ret, port_vol, min_vol, eff_vol, sharpe_ratio, efficient_frontier, tangent_portfolio, portfolio_selection"
   ]
  },
  {
   "cell_type": "code",
   "execution_count": 4,
   "metadata": {},
   "outputs": [],
   "source": [
    "#plt.style.use('seaborn')"
   ]
  },
  {
   "cell_type": "code",
   "execution_count": 5,
   "metadata": {},
   "outputs": [
    {
     "data": {
      "text/html": [
       "<div>\n",
       "<style scoped>\n",
       "    .dataframe tbody tr th:only-of-type {\n",
       "        vertical-align: middle;\n",
       "    }\n",
       "\n",
       "    .dataframe tbody tr th {\n",
       "        vertical-align: top;\n",
       "    }\n",
       "\n",
       "    .dataframe thead th {\n",
       "        text-align: right;\n",
       "    }\n",
       "</style>\n",
       "<table border=\"1\" class=\"dataframe\">\n",
       "  <thead>\n",
       "    <tr style=\"text-align: right;\">\n",
       "      <th></th>\n",
       "      <th>IGF</th>\n",
       "      <th>IFGL</th>\n",
       "      <th>IXN</th>\n",
       "      <th>IXJ</th>\n",
       "      <th>VDE</th>\n",
       "      <th>KXI</th>\n",
       "      <th>SPGP</th>\n",
       "      <th>VIS</th>\n",
       "      <th>RXI</th>\n",
       "    </tr>\n",
       "    <tr>\n",
       "      <th>Date</th>\n",
       "      <th></th>\n",
       "      <th></th>\n",
       "      <th></th>\n",
       "      <th></th>\n",
       "      <th></th>\n",
       "      <th></th>\n",
       "      <th></th>\n",
       "      <th></th>\n",
       "      <th></th>\n",
       "    </tr>\n",
       "  </thead>\n",
       "  <tbody>\n",
       "    <tr>\n",
       "      <th>2012-01-04</th>\n",
       "      <td>-0.535872</td>\n",
       "      <td>-0.231571</td>\n",
       "      <td>-0.016714</td>\n",
       "      <td>-0.615608</td>\n",
       "      <td>0.298946</td>\n",
       "      <td>-0.716318</td>\n",
       "      <td>-0.200287</td>\n",
       "      <td>0.425633</td>\n",
       "      <td>0.019647</td>\n",
       "    </tr>\n",
       "    <tr>\n",
       "      <th>2012-01-05</th>\n",
       "      <td>-0.959820</td>\n",
       "      <td>-0.931686</td>\n",
       "      <td>0.150258</td>\n",
       "      <td>-0.247318</td>\n",
       "      <td>-0.424549</td>\n",
       "      <td>-0.555680</td>\n",
       "      <td>0.000000</td>\n",
       "      <td>0.125751</td>\n",
       "      <td>0.000000</td>\n",
       "    </tr>\n",
       "    <tr>\n",
       "      <th>2012-01-06</th>\n",
       "      <td>-1.273904</td>\n",
       "      <td>-1.137487</td>\n",
       "      <td>-0.217101</td>\n",
       "      <td>-0.194751</td>\n",
       "      <td>-0.611118</td>\n",
       "      <td>-0.862134</td>\n",
       "      <td>0.649500</td>\n",
       "      <td>-0.141489</td>\n",
       "      <td>-0.039307</td>\n",
       "    </tr>\n",
       "    <tr>\n",
       "      <th>2012-01-09</th>\n",
       "      <td>0.578314</td>\n",
       "      <td>0.589956</td>\n",
       "      <td>-0.100376</td>\n",
       "      <td>0.123992</td>\n",
       "      <td>0.378746</td>\n",
       "      <td>0.273061</td>\n",
       "      <td>-0.249316</td>\n",
       "      <td>0.783575</td>\n",
       "      <td>0.450934</td>\n",
       "    </tr>\n",
       "    <tr>\n",
       "      <th>2012-01-10</th>\n",
       "      <td>1.146669</td>\n",
       "      <td>1.672213</td>\n",
       "      <td>0.334160</td>\n",
       "      <td>0.494343</td>\n",
       "      <td>0.858938</td>\n",
       "      <td>0.694436</td>\n",
       "      <td>0.993525</td>\n",
       "      <td>1.410559</td>\n",
       "      <td>0.876437</td>\n",
       "    </tr>\n",
       "  </tbody>\n",
       "</table>\n",
       "</div>"
      ],
      "text/plain": [
       "                 IGF      IFGL       IXN       IXJ       VDE       KXI  \\\n",
       "Date                                                                     \n",
       "2012-01-04 -0.535872 -0.231571 -0.016714 -0.615608  0.298946 -0.716318   \n",
       "2012-01-05 -0.959820 -0.931686  0.150258 -0.247318 -0.424549 -0.555680   \n",
       "2012-01-06 -1.273904 -1.137487 -0.217101 -0.194751 -0.611118 -0.862134   \n",
       "2012-01-09  0.578314  0.589956 -0.100376  0.123992  0.378746  0.273061   \n",
       "2012-01-10  1.146669  1.672213  0.334160  0.494343  0.858938  0.694436   \n",
       "\n",
       "                SPGP       VIS       RXI  \n",
       "Date                                      \n",
       "2012-01-04 -0.200287  0.425633  0.019647  \n",
       "2012-01-05  0.000000  0.125751  0.000000  \n",
       "2012-01-06  0.649500 -0.141489 -0.039307  \n",
       "2012-01-09 -0.249316  0.783575  0.450934  \n",
       "2012-01-10  0.993525  1.410559  0.876437  "
      ]
     },
     "execution_count": 5,
     "metadata": {},
     "output_type": "execute_result"
    }
   ],
   "source": [
    "mydict = {'IGF': 'Global Infrastructure', \n",
    "          'IFGL':'International Developed Real Estate ETF',\n",
    "          'IXN': 'iShares Global Tech ETF',\n",
    "          'IXJ': 'iShares Global Healthcare ETF',\n",
    "          'VDE': 'Vanguard Energy ETF',\n",
    "          'KXI': 'iShares Global Consumer Staples ETF',\n",
    "          'SPGP':'iShares Gold Producers UCITS ETF',\n",
    "          'VIS': 'Vanguard Industrial ETF',\n",
    "          'RXI': 'iShares Global Consumer Discretionary ETF'\n",
    "         }\n",
    "# List shares of interest as Yahoo Fiance \"Ticker\"/\"Symbol\"\n",
    "mylist = list(mydict)[:]\n",
    "noa = len(mylist)\n",
    "\n",
    "# Load Data\n",
    "rets = pd.read_excel(r'C:\\Users\\Ma-Bi\\OneDrive\\Kandidat\\Topics in Financial Econometrics - Seminar\\log_rets.xlsx', \n",
    "                   sheet_name='Sheet', index=True, index_col=[0])\n",
    "rets.head()"
   ]
  },
  {
   "cell_type": "code",
   "execution_count": 6,
   "metadata": {},
   "outputs": [
    {
     "data": {
      "text/html": [
       "<div>\n",
       "<style scoped>\n",
       "    .dataframe tbody tr th:only-of-type {\n",
       "        vertical-align: middle;\n",
       "    }\n",
       "\n",
       "    .dataframe tbody tr th {\n",
       "        vertical-align: top;\n",
       "    }\n",
       "\n",
       "    .dataframe thead th {\n",
       "        text-align: right;\n",
       "    }\n",
       "</style>\n",
       "<table border=\"1\" class=\"dataframe\">\n",
       "  <thead>\n",
       "    <tr style=\"text-align: right;\">\n",
       "      <th></th>\n",
       "      <th>ticker</th>\n",
       "      <th>mean</th>\n",
       "      <th>std</th>\n",
       "      <th>skewness</th>\n",
       "      <th>excess kurtosis</th>\n",
       "    </tr>\n",
       "  </thead>\n",
       "  <tbody>\n",
       "    <tr>\n",
       "      <th>Global Infrastructure</th>\n",
       "      <td>IGF</td>\n",
       "      <td>0.029</td>\n",
       "      <td>0.782</td>\n",
       "      <td>-0.437</td>\n",
       "      <td>2.683</td>\n",
       "    </tr>\n",
       "    <tr>\n",
       "      <th>International Developed Real Estate ETF</th>\n",
       "      <td>IFGL</td>\n",
       "      <td>0.029</td>\n",
       "      <td>0.842</td>\n",
       "      <td>-0.442</td>\n",
       "      <td>4.053</td>\n",
       "    </tr>\n",
       "    <tr>\n",
       "      <th>iShares Global Tech ETF</th>\n",
       "      <td>IXN</td>\n",
       "      <td>0.063</td>\n",
       "      <td>1.015</td>\n",
       "      <td>-0.438</td>\n",
       "      <td>2.877</td>\n",
       "    </tr>\n",
       "    <tr>\n",
       "      <th>iShares Global Healthcare ETF</th>\n",
       "      <td>IXJ</td>\n",
       "      <td>0.048</td>\n",
       "      <td>0.827</td>\n",
       "      <td>-0.354</td>\n",
       "      <td>2.035</td>\n",
       "    </tr>\n",
       "    <tr>\n",
       "      <th>Vanguard Energy ETF</th>\n",
       "      <td>VDE</td>\n",
       "      <td>-0.003</td>\n",
       "      <td>1.288</td>\n",
       "      <td>-0.204</td>\n",
       "      <td>2.025</td>\n",
       "    </tr>\n",
       "    <tr>\n",
       "      <th>iShares Global Consumer Staples ETF</th>\n",
       "      <td>KXI</td>\n",
       "      <td>0.034</td>\n",
       "      <td>0.688</td>\n",
       "      <td>-0.436</td>\n",
       "      <td>2.280</td>\n",
       "    </tr>\n",
       "    <tr>\n",
       "      <th>iShares Gold Producers UCITS ETF</th>\n",
       "      <td>SPGP</td>\n",
       "      <td>0.059</td>\n",
       "      <td>0.909</td>\n",
       "      <td>-0.345</td>\n",
       "      <td>4.223</td>\n",
       "    </tr>\n",
       "    <tr>\n",
       "      <th>Vanguard Industrial ETF</th>\n",
       "      <td>VIS</td>\n",
       "      <td>0.050</td>\n",
       "      <td>0.937</td>\n",
       "      <td>-0.424</td>\n",
       "      <td>2.123</td>\n",
       "    </tr>\n",
       "    <tr>\n",
       "      <th>iShares Global Consumer Discretionary ETF</th>\n",
       "      <td>RXI</td>\n",
       "      <td>0.050</td>\n",
       "      <td>0.887</td>\n",
       "      <td>-0.494</td>\n",
       "      <td>2.781</td>\n",
       "    </tr>\n",
       "  </tbody>\n",
       "</table>\n",
       "</div>"
      ],
      "text/plain": [
       "                                          ticker   mean    std  skewness  \\\n",
       "Global Infrastructure                        IGF  0.029  0.782    -0.437   \n",
       "International Developed Real Estate ETF     IFGL  0.029  0.842    -0.442   \n",
       "iShares Global Tech ETF                      IXN  0.063  1.015    -0.438   \n",
       "iShares Global Healthcare ETF                IXJ  0.048  0.827    -0.354   \n",
       "Vanguard Energy ETF                          VDE -0.003  1.288    -0.204   \n",
       "iShares Global Consumer Staples ETF          KXI  0.034  0.688    -0.436   \n",
       "iShares Gold Producers UCITS ETF            SPGP  0.059  0.909    -0.345   \n",
       "Vanguard Industrial ETF                      VIS  0.050  0.937    -0.424   \n",
       "iShares Global Consumer Discretionary ETF    RXI  0.050  0.887    -0.494   \n",
       "\n",
       "                                           excess kurtosis  \n",
       "Global Infrastructure                                2.683  \n",
       "International Developed Real Estate ETF              4.053  \n",
       "iShares Global Tech ETF                              2.877  \n",
       "iShares Global Healthcare ETF                        2.035  \n",
       "Vanguard Energy ETF                                  2.025  \n",
       "iShares Global Consumer Staples ETF                  2.280  \n",
       "iShares Gold Producers UCITS ETF                     4.223  \n",
       "Vanguard Industrial ETF                              2.123  \n",
       "iShares Global Consumer Discretionary ETF            2.781  "
      ]
     },
     "metadata": {},
     "output_type": "display_data"
    }
   ],
   "source": [
    "TABLE = rets.describe()[1:3].round(3).transpose()\n",
    "TABLE['skewness'] = np.array(rets.skew().round(3))\n",
    "TABLE['excess kurtosis'] = np.array(rets.kurt().round(3))\n",
    "TABLE['ticker'] = np.array(list(mydict)[:])\n",
    "TABLE = TABLE[['ticker', 'mean', 'std', 'skewness', 'excess kurtosis']]\n",
    "TABLE = TABLE.set_index(np.array(list(mydict.values())[:]))\n",
    "display(TABLE)\n",
    "# print(TABLE.to_latex(index=True))"
   ]
  },
  {
   "cell_type": "code",
   "execution_count": 7,
   "metadata": {},
   "outputs": [
    {
     "data": {
      "text/html": [
       "<div>\n",
       "<style scoped>\n",
       "    .dataframe tbody tr th:only-of-type {\n",
       "        vertical-align: middle;\n",
       "    }\n",
       "\n",
       "    .dataframe tbody tr th {\n",
       "        vertical-align: top;\n",
       "    }\n",
       "\n",
       "    .dataframe thead th {\n",
       "        text-align: right;\n",
       "    }\n",
       "</style>\n",
       "<table border=\"1\" class=\"dataframe\">\n",
       "  <thead>\n",
       "    <tr style=\"text-align: right;\">\n",
       "      <th></th>\n",
       "      <th>IGF</th>\n",
       "      <th>IFGL</th>\n",
       "      <th>IXN</th>\n",
       "      <th>IXJ</th>\n",
       "      <th>VDE</th>\n",
       "      <th>KXI</th>\n",
       "      <th>SPGP</th>\n",
       "      <th>VIS</th>\n",
       "      <th>RXI</th>\n",
       "    </tr>\n",
       "    <tr>\n",
       "      <th>Date</th>\n",
       "      <th></th>\n",
       "      <th></th>\n",
       "      <th></th>\n",
       "      <th></th>\n",
       "      <th></th>\n",
       "      <th></th>\n",
       "      <th></th>\n",
       "      <th></th>\n",
       "      <th></th>\n",
       "    </tr>\n",
       "  </thead>\n",
       "  <tbody>\n",
       "    <tr>\n",
       "      <th>2012-01-04</th>\n",
       "      <td>-0.535872</td>\n",
       "      <td>-0.231571</td>\n",
       "      <td>-0.016714</td>\n",
       "      <td>-0.615608</td>\n",
       "      <td>0.298946</td>\n",
       "      <td>-0.716318</td>\n",
       "      <td>-0.200287</td>\n",
       "      <td>0.425633</td>\n",
       "      <td>0.019647</td>\n",
       "    </tr>\n",
       "    <tr>\n",
       "      <th>2012-01-05</th>\n",
       "      <td>-0.959820</td>\n",
       "      <td>-0.931686</td>\n",
       "      <td>0.150258</td>\n",
       "      <td>-0.247318</td>\n",
       "      <td>-0.424549</td>\n",
       "      <td>-0.555680</td>\n",
       "      <td>0.000000</td>\n",
       "      <td>0.125751</td>\n",
       "      <td>0.000000</td>\n",
       "    </tr>\n",
       "    <tr>\n",
       "      <th>2012-01-06</th>\n",
       "      <td>-1.273904</td>\n",
       "      <td>-1.137487</td>\n",
       "      <td>-0.217101</td>\n",
       "      <td>-0.194751</td>\n",
       "      <td>-0.611118</td>\n",
       "      <td>-0.862134</td>\n",
       "      <td>0.649500</td>\n",
       "      <td>-0.141489</td>\n",
       "      <td>-0.039307</td>\n",
       "    </tr>\n",
       "    <tr>\n",
       "      <th>2012-01-09</th>\n",
       "      <td>0.578314</td>\n",
       "      <td>0.589956</td>\n",
       "      <td>-0.100376</td>\n",
       "      <td>0.123992</td>\n",
       "      <td>0.378746</td>\n",
       "      <td>0.273061</td>\n",
       "      <td>-0.249316</td>\n",
       "      <td>0.783575</td>\n",
       "      <td>0.450934</td>\n",
       "    </tr>\n",
       "    <tr>\n",
       "      <th>2012-01-10</th>\n",
       "      <td>1.146669</td>\n",
       "      <td>1.672213</td>\n",
       "      <td>0.334160</td>\n",
       "      <td>0.494343</td>\n",
       "      <td>0.858938</td>\n",
       "      <td>0.694436</td>\n",
       "      <td>0.993525</td>\n",
       "      <td>1.410559</td>\n",
       "      <td>0.876437</td>\n",
       "    </tr>\n",
       "  </tbody>\n",
       "</table>\n",
       "</div>"
      ],
      "text/plain": [
       "                 IGF      IFGL       IXN       IXJ       VDE       KXI  \\\n",
       "Date                                                                     \n",
       "2012-01-04 -0.535872 -0.231571 -0.016714 -0.615608  0.298946 -0.716318   \n",
       "2012-01-05 -0.959820 -0.931686  0.150258 -0.247318 -0.424549 -0.555680   \n",
       "2012-01-06 -1.273904 -1.137487 -0.217101 -0.194751 -0.611118 -0.862134   \n",
       "2012-01-09  0.578314  0.589956 -0.100376  0.123992  0.378746  0.273061   \n",
       "2012-01-10  1.146669  1.672213  0.334160  0.494343  0.858938  0.694436   \n",
       "\n",
       "                SPGP       VIS       RXI  \n",
       "Date                                      \n",
       "2012-01-04 -0.200287  0.425633  0.019647  \n",
       "2012-01-05  0.000000  0.125751  0.000000  \n",
       "2012-01-06  0.649500 -0.141489 -0.039307  \n",
       "2012-01-09 -0.249316  0.783575  0.450934  \n",
       "2012-01-10  0.993525  1.410559  0.876437  "
      ]
     },
     "execution_count": 7,
     "metadata": {},
     "output_type": "execute_result"
    }
   ],
   "source": [
    "rets.head()"
   ]
  },
  {
   "cell_type": "code",
   "execution_count": 8,
   "metadata": {},
   "outputs": [
    {
     "data": {
      "image/png": "[encoded data removed]",
      "text/plain": [
       "<Figure size 1080x432 with 3 Axes>"
      ]
     },
     "metadata": {
      "needs_background": "light"
     },
     "output_type": "display_data"
    }
   ],
   "source": [
    "fig, axs = plt.subplots(1,2,figsize=(15,6))\n",
    "plt.subplots_adjust(left=None, bottom=None, right=None, top=None, wspace=0.2, hspace=0.4)\n",
    "\n",
    "mpl.rcParams['font.family'] = 'serif'\n",
    "#%matplotlib inline\n",
    "\n",
    "plt.subplot(1, 2, 1)\n",
    "plt.plot(rets.cumsum(), lw=1.0)\n",
    "plt.ylabel('Accumulated daily log-return')\n",
    "plt.legend(list(mydict))\n",
    "\n",
    "plt.subplot(2, 2, 2)\n",
    "plt.plot(rets['IGF'], lw=0.5, label='IGF')\n",
    "plt.legend()\n",
    "#plt.plot(rets.iloc[:, 0:5], lw=0.2)\n",
    "plt.ylabel('Daily log-return, %')\n",
    "#plt.legend(list(mydict)[0:5])\n",
    "\n",
    "\n",
    "plt.subplot(2, 2, 4)\n",
    "plt.hist(rets['IGF'], bins=75, label='IGF')\n",
    "plt.legend()\n",
    "plt.ylabel('Frequency')\n",
    "plt.xlabel('Daily log-return, %')\n",
    "#plt.plot(rets.iloc[:, 5:], lw=0.2)\n",
    "#plt.ylabel('Daily log-return, %')\n",
    "#plt.legend(list(mydict)[5:])\n",
    "\n",
    "#plt.show()\n",
    "plt.savefig('historic_development.png', dpi=300, bbox_inches='tight')"
   ]
  },
  {
   "cell_type": "code",
   "execution_count": 9,
   "metadata": {},
   "outputs": [
    {
     "data": {
      "text/html": [
       "<div>\n",
       "<style scoped>\n",
       "    .dataframe tbody tr th:only-of-type {\n",
       "        vertical-align: middle;\n",
       "    }\n",
       "\n",
       "    .dataframe tbody tr th {\n",
       "        vertical-align: top;\n",
       "    }\n",
       "\n",
       "    .dataframe thead th {\n",
       "        text-align: right;\n",
       "    }\n",
       "</style>\n",
       "<table border=\"1\" class=\"dataframe\">\n",
       "  <thead>\n",
       "    <tr style=\"text-align: right;\">\n",
       "      <th></th>\n",
       "      <th>IGF</th>\n",
       "      <th>IFGL</th>\n",
       "      <th>IXN</th>\n",
       "      <th>IXJ</th>\n",
       "      <th>VDE</th>\n",
       "      <th>KXI</th>\n",
       "      <th>SPGP</th>\n",
       "      <th>VIS</th>\n",
       "      <th>RXI</th>\n",
       "    </tr>\n",
       "  </thead>\n",
       "  <tbody>\n",
       "    <tr>\n",
       "      <th>ADF Statistic</th>\n",
       "      <td>-23.487</td>\n",
       "      <td>-44.11</td>\n",
       "      <td>-16.959</td>\n",
       "      <td>-23.227</td>\n",
       "      <td>-43.496</td>\n",
       "      <td>-43.63</td>\n",
       "      <td>-10.67</td>\n",
       "      <td>-20.948</td>\n",
       "      <td>-43.328</td>\n",
       "    </tr>\n",
       "    <tr>\n",
       "      <th>p-value</th>\n",
       "      <td>0.000</td>\n",
       "      <td>0.00</td>\n",
       "      <td>0.000</td>\n",
       "      <td>0.000</td>\n",
       "      <td>0.000</td>\n",
       "      <td>0.00</td>\n",
       "      <td>0.00</td>\n",
       "      <td>0.000</td>\n",
       "      <td>0.000</td>\n",
       "    </tr>\n",
       "  </tbody>\n",
       "</table>\n",
       "</div>"
      ],
      "text/plain": [
       "                  IGF   IFGL     IXN     IXJ     VDE    KXI   SPGP     VIS  \\\n",
       "ADF Statistic -23.487 -44.11 -16.959 -23.227 -43.496 -43.63 -10.67 -20.948   \n",
       "p-value         0.000   0.00   0.000   0.000   0.000   0.00   0.00   0.000   \n",
       "\n",
       "                  RXI  \n",
       "ADF Statistic -43.328  \n",
       "p-value         0.000  "
      ]
     },
     "metadata": {},
     "output_type": "display_data"
    },
    {
     "name": "stdout",
     "output_type": "stream",
     "text": [
      "Rejecting the null hypothesis means that the process has no unit root, thus that the time series is stationary\n"
     ]
    }
   ],
   "source": [
    "# Augmented Dicke Fuller test of unit root\n",
    "from statsmodels.tsa.stattools import adfuller\n",
    "\n",
    "DF = pd.DataFrame(columns=mylist, index=['ADF Statistic', 'p-value'])\n",
    "\n",
    "for ent in mylist:\n",
    "    DF[ent] = (adfuller(rets[ent]))[:2]\n",
    "\n",
    "\n",
    "display(DF.round(3))\n",
    "#print(np.round(DF, 2).to_latex())\n",
    "print('Rejecting the null hypothesis means that the process has no unit root, thus that the time series is stationary')"
   ]
  },
  {
   "cell_type": "code",
   "execution_count": 10,
   "metadata": {},
   "outputs": [
    {
     "name": "stdout",
     "output_type": "stream",
     "text": [
      "Covariance Matrix \n",
      "\n",
      "\\begin{tabular}{lrrrrrrrrr}\n",
      "\\toprule\n",
      "{} &   IGF &  IFGL &   IXN &   IXJ &   VDE &   KXI &  SPGP &   VIS &   RXI \\\\\n",
      "\\midrule\n",
      "IGF  &  0.61 &  0.52 &  0.54 &  0.45 &  0.67 &  0.42 &  0.44 &  0.51 &  0.52 \\\\\n",
      "IFGL &  0.52 &  0.71 &  0.57 &  0.46 &  0.60 &  0.42 &  0.45 &  0.52 &  0.56 \\\\\n",
      "IXN  &  0.54 &  0.57 &  1.03 &  0.62 &  0.77 &  0.47 &  0.79 &  0.76 &  0.76 \\\\\n",
      "IXJ  &  0.45 &  0.46 &  0.62 &  0.68 &  0.58 &  0.42 &  0.57 &  0.57 &  0.57 \\\\\n",
      "VDE  &  0.67 &  0.60 &  0.77 &  0.58 &  1.66 &  0.45 &  0.66 &  0.83 &  0.72 \\\\\n",
      "KXI  &  0.42 &  0.42 &  0.47 &  0.42 &  0.45 &  0.47 &  0.40 &  0.44 &  0.46 \\\\\n",
      "SPGP &  0.44 &  0.45 &  0.79 &  0.57 &  0.66 &  0.40 &  0.83 &  0.66 &  0.66 \\\\\n",
      "VIS  &  0.51 &  0.52 &  0.76 &  0.57 &  0.83 &  0.44 &  0.66 &  0.88 &  0.70 \\\\\n",
      "RXI  &  0.52 &  0.56 &  0.76 &  0.57 &  0.72 &  0.46 &  0.66 &  0.70 &  0.79 \\\\\n",
      "\\bottomrule\n",
      "\\end{tabular}\n",
      "\n"
     ]
    }
   ],
   "source": [
    "print('Covariance Matrix \\n')\n",
    "print(np.round(rets.cov(), 2).to_latex())\n",
    "# plt.matshow(rets.cov(), cmap='coolwarm')\n",
    "# plt.show()"
   ]
  },
  {
   "cell_type": "markdown",
   "metadata": {},
   "source": [
    "# MATRIX\n"
   ]
  },
  {
   "cell_type": "code",
   "execution_count": 11,
   "metadata": {},
   "outputs": [
    {
     "name": "stdout",
     "output_type": "stream",
     "text": [
      "Optimal parameter values =  [ 0.      1.4226 17.6033]\n",
      "Check that eq holds: [ 0.  0. -0.]\n"
     ]
    }
   ],
   "source": [
    "df,w_min, ret_min, vol_min, SR_min, w_eff, ret_eff, vol_eff, SR_eff, w_tan, ret_tan, vol_tan, SR_tan, evols, erets,front_vol, front_ret, opt = portfolio_selection(mu=rets.mean(), \n",
    "                                                                  omega=rets.cov(), \n",
    "                                                                  noa=noa,  \n",
    "                                                                  mylist=mylist,\n",
    "                                                                  target_return=30/252)"
   ]
  },
  {
   "cell_type": "code",
   "execution_count": 12,
   "metadata": {},
   "outputs": [
    {
     "data": {
      "text/html": [
       "<div>\n",
       "<style scoped>\n",
       "    .dataframe tbody tr th:only-of-type {\n",
       "        vertical-align: middle;\n",
       "    }\n",
       "\n",
       "    .dataframe tbody tr th {\n",
       "        vertical-align: top;\n",
       "    }\n",
       "\n",
       "    .dataframe thead th {\n",
       "        text-align: right;\n",
       "    }\n",
       "</style>\n",
       "<table border=\"1\" class=\"dataframe\">\n",
       "  <thead>\n",
       "    <tr style=\"text-align: right;\">\n",
       "      <th></th>\n",
       "      <th>IGF</th>\n",
       "      <th>IFGL</th>\n",
       "      <th>IXN</th>\n",
       "      <th>IXJ</th>\n",
       "      <th>VDE</th>\n",
       "      <th>KXI</th>\n",
       "      <th>SPGP</th>\n",
       "      <th>VIS</th>\n",
       "      <th>RXI</th>\n",
       "      <th>Exp. ret</th>\n",
       "      <th>Exp. vol</th>\n",
       "      <th>SR</th>\n",
       "    </tr>\n",
       "  </thead>\n",
       "  <tbody>\n",
       "    <tr>\n",
       "      <th>Min. vol</th>\n",
       "      <td>0.19600</td>\n",
       "      <td>0.143000</td>\n",
       "      <td>-0.234000</td>\n",
       "      <td>0.099000</td>\n",
       "      <td>-0.058000</td>\n",
       "      <td>0.648000</td>\n",
       "      <td>0.29900</td>\n",
       "      <td>0.072000</td>\n",
       "      <td>-0.164000</td>\n",
       "      <td>8.765972</td>\n",
       "      <td>10.424285</td>\n",
       "      <td>0.840918</td>\n",
       "    </tr>\n",
       "    <tr>\n",
       "      <th>Tangent</th>\n",
       "      <td>0.30902</td>\n",
       "      <td>-0.306005</td>\n",
       "      <td>0.303422</td>\n",
       "      <td>0.237392</td>\n",
       "      <td>-0.806854</td>\n",
       "      <td>0.100583</td>\n",
       "      <td>0.55195</td>\n",
       "      <td>0.495633</td>\n",
       "      <td>0.114322</td>\n",
       "      <td>25.083025</td>\n",
       "      <td>17.631782</td>\n",
       "      <td>1.422603</td>\n",
       "    </tr>\n",
       "  </tbody>\n",
       "</table>\n",
       "</div>"
      ],
      "text/plain": [
       "              IGF      IFGL       IXN       IXJ       VDE       KXI     SPGP  \\\n",
       "Min. vol  0.19600  0.143000 -0.234000  0.099000 -0.058000  0.648000  0.29900   \n",
       "Tangent   0.30902 -0.306005  0.303422  0.237392 -0.806854  0.100583  0.55195   \n",
       "\n",
       "               VIS       RXI   Exp. ret   Exp. vol        SR  \n",
       "Min. vol  0.072000 -0.164000   8.765972  10.424285  0.840918  \n",
       "Tangent   0.495633  0.114322  25.083025  17.631782  1.422603  "
      ]
     },
     "execution_count": 12,
     "metadata": {},
     "output_type": "execute_result"
    }
   ],
   "source": [
    "df"
   ]
  },
  {
   "cell_type": "code",
   "execution_count": 14,
   "metadata": {},
   "outputs": [
    {
     "data": {
      "image/png": "[encoded data removed]",
      "text/plain": [
       "<Figure size 720x432 with 1 Axes>"
      ]
     },
     "metadata": {
      "needs_background": "light"
     },
     "output_type": "display_data"
    }
   ],
   "source": [
    "fig, ax = plt.subplots(nrows=1, ncols=1, figsize=(10,6))\n",
    "\n",
    "plt.plot(front_vol, front_ret)\n",
    "plt.plot(vol_eff, ret_eff, 'b*', markersize=15.0, label='Target return portfolio')\n",
    "plt.plot(vol_min, ret_min, 'r*', markersize=15.0, label='min vol. portfolio')\n",
    "\n",
    "# plot individual ETFs\n",
    "for i,type in enumerate(mylist):\n",
    "    x2 = np.sqrt((rets[type]).var()*252)\n",
    "    y2 = rets[type].mean()*252\n",
    "    plt.scatter(x2, y2, marker='o')  \n",
    "    plt.text(x2+0.05, y2+0.05, type, fontsize=9)\n",
    "    \n",
    "plt.xlabel('Annualized Expected Volatility, $\\%$')\n",
    "plt.ylabel('Annualized Expected Return, $\\%$')\n",
    "plt.title('Annualized Portfolio Return and Volatility')\n",
    "\n",
    "plt.legend()\n",
    "plt.show()"
   ]
  },
  {
   "cell_type": "code",
   "execution_count": 13,
   "metadata": {},
   "outputs": [
    {
     "data": {
      "image/png": "[encoded data removed]",
      "text/plain": [
       "<Figure size 720x432 with 1 Axes>"
      ]
     },
     "metadata": {
      "needs_background": "light"
     },
     "output_type": "display_data"
    }
   ],
   "source": [
    "rf=0\n",
    "fig, ax = plt.subplots(nrows=1, ncols=1, figsize=(10,6))\n",
    "\n",
    "plt.plot(evols, erets, 'b', lw=3.0, label='Effecient frontier')\n",
    "\n",
    "cx = np.linspace(0.0, 20.0)\n",
    "plt.plot(cx, opt[0] + opt[1] * cx, 'r', lw=1.5)\n",
    "\n",
    "plt.plot(opt[2], ret_tan, 'g*', markersize=15, label='Tangent Portfolio')\n",
    "plt.plot(vol_min, ret_min, 'r*', markersize=15.0, label='min vol. portfolio')\n",
    "\n",
    "# plot individual ETFs\n",
    "for i,type in enumerate(mylist):\n",
    "    x2 = np.sqrt((rets[type]).var()*252)\n",
    "    y2 = rets[type].mean()*252\n",
    "    plt.scatter(x2, y2, marker='o')  \n",
    "    plt.text(x2+0.05, y2+0.05, type, fontsize=9)\n",
    "\n",
    "\n",
    "plt.grid(True)\n",
    "axes = plt.gca()\n",
    "axes.set_xlim([0,22])\n",
    "axes.set_ylim([-1.5,28])\n",
    "plt.xlabel('Annualized Expected Volatility, $\\%$')\n",
    "plt.ylabel('Annualized Expected Return, $\\%$')\n",
    "#plt.title('Historical Mean-Variance optimization')\n",
    "plt.legend()\n",
    "\n",
    "plt.savefig('tangent_port.png', dpi=300, bbox_inches='tight')"
   ]
  },
  {
   "cell_type": "markdown",
   "metadata": {},
   "source": [
    "## Moving on to GARCH modelleing"
   ]
  },
  {
   "cell_type": "code",
   "execution_count": 15,
   "metadata": {},
   "outputs": [],
   "source": [
    "n_time = 100\n",
    "n_test = 60\n",
    "H = -n_time+n_test\n",
    "\n",
    "parameters = np.zeros((noa,5))                         # 4 for GARCH(1,1) and 5 for GJR-GARCH(1,1)\n",
    "p_values = np.zeros((noa,5))\n",
    "std_error = np.zeros((noa,5))\n",
    "forecasts = np.zeros((noa,n_test))\n",
    "forecast_variance = np.zeros(noa)\n",
    "std_resid = np.zeros((noa,len(rets['IGF'][:-n_time])))\n",
    "estimation_result = []\n",
    "\n",
    "\n",
    "\n",
    "for i,n in enumerate(mylist):\n",
    "    # split into train/test = in-sample/out-of-sample\n",
    "    train, test = rets[n][:-n_time], rets[n][-n_time : H] \n",
    "\n",
    "    # define GARCH model\n",
    "    # model = arch_model(train, mean='Constant', vol='GARCH', p=1, q=1)\n",
    "    model = arch_model(train, p=1, o=1, q=1)          # GJR Garch - just change parameters to 5 instead of 4\n",
    "\n",
    "    # fit model\n",
    "    res = model.fit(disp='off')\n",
    "    estimation_result.append(res)\n",
    "\n",
    "    # Save parameter estimates\n",
    "    parameters[i][:] = res.params[:]\n",
    "    p_values[i][:] = res.pvalues[:]\n",
    "    std_error[i][:] = res.std_err[:]\n",
    "    \n",
    "    # Save standardized residuals\n",
    "    std_resid[i][:] = res.resid / res.conditional_volatility\n",
    "    \n",
    "    # forecast variance\n",
    "    forecasts[i][:] = res.forecast(horizon=n_test).variance.dropna().values.T[:,0]\n",
    "    forecast_variance[i] = forecasts[i].mean() # Each asset's forecasted variance for period n_test period ahead\n",
    "    \n",
    "df_std_resid = pd.DataFrame(std_resid).T"
   ]
  },
  {
   "cell_type": "code",
   "execution_count": 16,
   "metadata": {},
   "outputs": [],
   "source": [
    "## Save to excel to check in MATLAB - They are not normal in Matlab either...\n",
    "# std_resid.to_excel(\"std_resid.xlsx\")\n",
    "\n",
    "## CHECK whether JB works for generated random... it does.\n",
    "# s = np.random.normal(0, 50, 3000)\n",
    "# stats.jarque_bera(s)"
   ]
  },
  {
   "cell_type": "code",
   "execution_count": 17,
   "metadata": {},
   "outputs": [
    {
     "data": {
      "text/plain": [
       "[(179.6444186770409, 0.0),\n",
       " (284.83851147941886, 0.0),\n",
       " (339.7634062102716, 0.0),\n",
       " (124.73082104200937, 0.0),\n",
       " (135.31863205864536, 0.0),\n",
       " (198.8566666839391, 0.0),\n",
       " (243.58269564524718, 0.0),\n",
       " (343.7174894855836, 0.0),\n",
       " (638.7317393826531, 0.0)]"
      ]
     },
     "execution_count": 17,
     "metadata": {},
     "output_type": "execute_result"
    }
   ],
   "source": [
    "# Normality test of Standardized residuals:\n",
    "JB = []\n",
    "\n",
    "for i in range(len(mylist)):\n",
    "    JB.append(stats.jarque_bera(std_resid[i]))\n",
    "    \n",
    "JB\n",
    "# Nul hypothesis rejected on a 5% significance level. Thus not Normal as hoped by GJR..."
   ]
  },
  {
   "cell_type": "code",
   "execution_count": 18,
   "metadata": {},
   "outputs": [
    {
     "data": {
      "image/png": "[encoded data removed]",
      "text/plain": [
       "<Figure size 432x288 with 1 Axes>"
      ]
     },
     "metadata": {
      "needs_background": "light"
     },
     "output_type": "display_data"
    },
    {
     "data": {
      "image/png": "[encoded data removed]",
      "text/plain": [
       "<Figure size 432x288 with 1 Axes>"
      ]
     },
     "metadata": {
      "needs_background": "light"
     },
     "output_type": "display_data"
    },
    {
     "data": {
      "image/png": "[encoded data removed]",
      "text/plain": [
       "<Figure size 432x288 with 1 Axes>"
      ]
     },
     "metadata": {
      "needs_background": "light"
     },
     "output_type": "display_data"
    },
    {
     "data": {
      "image/png": "[encoded data removed]",
      "text/plain": [
       "<Figure size 432x288 with 1 Axes>"
      ]
     },
     "metadata": {
      "needs_background": "light"
     },
     "output_type": "display_data"
    }
   ],
   "source": [
    "import statsmodels.api as sm\n",
    "\n",
    "plt.hist(df_std_resid[0], bins=75)\n",
    "plt.show()\n",
    "\n",
    "plt.plot(df_std_resid[0])\n",
    "plt.show()\n",
    "\n",
    "df_std_resid[0].plot(kind='kde')\n",
    "plt.show()\n",
    "\n",
    "sm.qqplot(df_std_resid[0],  fit=True, line='45')\n",
    "plt.show()"
   ]
  },
  {
   "cell_type": "code",
   "execution_count": 19,
   "metadata": {},
   "outputs": [],
   "source": [
    "# Need in and out of sample for other purposes\n",
    "# train, test = rets[:-n_time], rets[-n_time : H]"
   ]
  },
  {
   "cell_type": "code",
   "execution_count": 20,
   "metadata": {},
   "outputs": [],
   "source": [
    "# Maximum likelihood yourself\n",
    "import scipy.optimize as opt\n",
    "\n",
    "r = rets[mylist[1]][:-n_time]\n",
    "\n",
    "def GJR_sigma(mu, omega, alpha, gamma, beta, r):\n",
    "    sigma_2 = []\n",
    "    sigma_2.append(omega / (1 - alpha - gamma/2 - beta))\n",
    "\n",
    "    for i in range(len(r)):\n",
    "        if r[i]>0:\n",
    "            sigma_2.append(omega + alpha* r[i]**2 + beta* sigma_2[i])\n",
    "        else:\n",
    "            sigma_2.append(omega + (alpha+gamma)*r[i]**2 + beta*sigma_2[i])\n",
    "    \n",
    "    return np.array(sigma_2)\n",
    "\n",
    "\n",
    "def GJR_loglik(vP, r):\n",
    "    mu = vP[0]\n",
    "    omega = vP[1]\n",
    "    alpha = vP[2]\n",
    "    gamma = vP[3]\n",
    "    beta = vP[4]\n",
    "    \n",
    "    sigma_2 = GJR_sigma(mu, omega, alpha, gamma, beta, r)\n",
    "    \n",
    "    #LogL = - np.sum(-np.log(np.array(sigma_2[1:])) - (r)**2/np.array(sigma_2[1:]))  # minus first to minimize\n",
    "    LogL = 0.5 * (np.sum(np.log(2*math.pi)+np.log(sigma_2[:-1]) + ((r-mu)**2)/sigma_2[:-1])) \n",
    "    \n",
    "    return LogL"
   ]
  },
  {
   "cell_type": "code",
   "execution_count": 21,
   "metadata": {},
   "outputs": [
    {
     "name": "stderr",
     "output_type": "stream",
     "text": [
      "C:\\Users\\Ma-Bi\\Anaconda3\\lib\\site-packages\\scipy\\optimize\\optimize.py:162: RuntimeWarning: overflow encountered in power\n",
      "  return numpy.sum(numpy.abs(x)**ord, axis=0)**(1.0 / ord)\n",
      "C:\\Users\\Ma-Bi\\Anaconda3\\lib\\site-packages\\ipykernel_launcher.py:29: RuntimeWarning: invalid value encountered in log\n"
     ]
    },
    {
     "data": {
      "text/plain": [
       "      fun: 2152.7058980711577\n",
       " hess_inv: array([[ 3.11389458e-04, -1.28851907e-06,  1.57679426e-05,\n",
       "        -9.38585785e-06, -5.79171035e-06],\n",
       "       [-1.28851907e-06,  5.56756469e-05,  4.24743324e-05,\n",
       "         4.75596525e-05, -1.42017937e-04],\n",
       "       [ 1.57679426e-05,  4.24743324e-05,  4.18754431e-04,\n",
       "        -2.05209939e-04, -3.17783341e-04],\n",
       "       [-9.38585785e-06,  4.75596525e-05, -2.05209939e-04,\n",
       "         6.84833427e-04, -1.56076749e-04],\n",
       "       [-5.79171035e-06, -1.42017937e-04, -3.17783341e-04,\n",
       "        -1.56076749e-04,  5.50220001e-04]])\n",
       "      jac: array([-0.01379395, -0.20651245, -0.28759766, -0.09725952, -0.21749878])\n",
       "  message: 'Optimization terminated successfully.'\n",
       "     nfev: 126\n",
       "      nit: 12\n",
       "     njev: 18\n",
       "   status: 0\n",
       "  success: True\n",
       "        x: array([0.0201446 , 0.02370555, 0.07549915, 0.08654   , 0.85554054])"
      ]
     },
     "execution_count": 21,
     "metadata": {},
     "output_type": "execute_result"
    }
   ],
   "source": [
    "cons = ({'type': 'ineq', 'func': lambda x: np.array(x)})\n",
    "bnds = ((None,None),(0.0001,None),(0.00001,None),(0.00001,None),(0.00001,None))\n",
    "vP0 = (0.026, 0.044, 0.103, 0.086, 0.788)\n",
    "\n",
    "#OWN_res = opt.minimize(GJR_loglik, vP0, args=r, bounds = bnds, options={'disp':True}) \n",
    "\n",
    "OWN_res = opt.minimize(GJR_loglik, vP0, args=(r), method='BFGS', jac=None, tol=None, callback=None, \n",
    "         options={'gtol': 1e-05, 'norm': 1000, 'eps': 1.4901161193847656e-08, 'maxiter': None, \n",
    "                  'disp': False, 'return_all': False})\n",
    "\n",
    "OWN_res"
   ]
  },
  {
   "cell_type": "code",
   "execution_count": 22,
   "metadata": {},
   "outputs": [
    {
     "data": {
      "text/plain": [
       "array([0.02 , 0.024, 0.075, 0.087, 0.856])"
      ]
     },
     "execution_count": 22,
     "metadata": {},
     "output_type": "execute_result"
    }
   ],
   "source": [
    "OWN_res.x.round(3)"
   ]
  },
  {
   "cell_type": "code",
   "execution_count": 23,
   "metadata": {},
   "outputs": [
    {
     "data": {
      "text/plain": [
       "array([[0.026, 0.044, 0.103, 0.086, 0.788],\n",
       "       [0.027, 0.024, 0.078, 0.077, 0.855],\n",
       "       [0.061, 0.052, 0.   , 0.173, 0.853],\n",
       "       [0.045, 0.036, 0.   , 0.182, 0.855],\n",
       "       [0.003, 0.023, 0.004, 0.081, 0.94 ],\n",
       "       [0.027, 0.034, 0.033, 0.161, 0.817],\n",
       "       [0.053, 0.035, 0.   , 0.204, 0.85 ],\n",
       "       [0.04 , 0.044, 0.   , 0.151, 0.87 ],\n",
       "       [0.046, 0.038, 0.041, 0.182, 0.823]])"
      ]
     },
     "metadata": {},
     "output_type": "display_data"
    },
    {
     "data": {
      "text/plain": [
       "array([[0.016, 0.019, 0.069, 0.05 , 0.07 ],\n",
       "       [0.017, 0.009, 0.04 , 0.039, 0.034],\n",
       "       [0.021, 0.012, 0.032, 0.038, 0.028],\n",
       "       [0.017, 0.008, 0.019, 0.036, 0.024],\n",
       "       [0.026, 0.009, 0.013, 0.018, 0.018],\n",
       "       [0.014, 0.012, 0.042, 0.046, 0.055],\n",
       "       [0.018, 0.007, 0.024, 0.035, 0.027],\n",
       "       [0.019, 0.019, 0.037, 0.033, 0.061],\n",
       "       [0.017, 0.01 , 0.042, 0.051, 0.029]])"
      ]
     },
     "metadata": {},
     "output_type": "display_data"
    },
    {
     "data": {
      "text/plain": [
       "array([[0.118, 0.019, 0.138, 0.088, 0.   ],\n",
       "       [0.111, 0.011, 0.05 , 0.046, 0.   ],\n",
       "       [0.003, 0.   , 1.   , 0.   , 0.   ],\n",
       "       [0.007, 0.   , 1.   , 0.   , 0.   ],\n",
       "       [0.922, 0.013, 0.763, 0.   , 0.   ],\n",
       "       [0.06 , 0.005, 0.434, 0.   , 0.   ],\n",
       "       [0.003, 0.   , 1.   , 0.   , 0.   ],\n",
       "       [0.04 , 0.023, 1.   , 0.   , 0.   ],\n",
       "       [0.007, 0.   , 0.327, 0.   , 0.   ]])"
      ]
     },
     "metadata": {},
     "output_type": "display_data"
    }
   ],
   "source": [
    "display(parameters[:].round(3))\n",
    "display(std_error[:].round(3))\n",
    "display(p_values[:].round(3))"
   ]
  },
  {
   "cell_type": "code",
   "execution_count": 24,
   "metadata": {},
   "outputs": [
    {
     "data": {
      "text/html": [
       "<div>\n",
       "<style scoped>\n",
       "    .dataframe tbody tr th:only-of-type {\n",
       "        vertical-align: middle;\n",
       "    }\n",
       "\n",
       "    .dataframe tbody tr th {\n",
       "        vertical-align: top;\n",
       "    }\n",
       "\n",
       "    .dataframe thead th {\n",
       "        text-align: right;\n",
       "    }\n",
       "</style>\n",
       "<table border=\"1\" class=\"dataframe\">\n",
       "  <thead>\n",
       "    <tr style=\"text-align: right;\">\n",
       "      <th></th>\n",
       "      <th>IGF</th>\n",
       "      <th>IFGL</th>\n",
       "      <th>IXN</th>\n",
       "      <th>IXJ</th>\n",
       "      <th>VDE</th>\n",
       "      <th>KXI</th>\n",
       "      <th>SPGP</th>\n",
       "      <th>VIS</th>\n",
       "      <th>RXI</th>\n",
       "    </tr>\n",
       "  </thead>\n",
       "  <tbody>\n",
       "    <tr>\n",
       "      <th>mu</th>\n",
       "      <td>0.026</td>\n",
       "      <td>0.027</td>\n",
       "      <td>0.061</td>\n",
       "      <td>0.045</td>\n",
       "      <td>0.003</td>\n",
       "      <td>0.027</td>\n",
       "      <td>0.053</td>\n",
       "      <td>0.040</td>\n",
       "      <td>0.046</td>\n",
       "    </tr>\n",
       "    <tr>\n",
       "      <th>omega</th>\n",
       "      <td>0.044</td>\n",
       "      <td>0.024</td>\n",
       "      <td>0.052</td>\n",
       "      <td>0.036</td>\n",
       "      <td>0.023</td>\n",
       "      <td>0.034</td>\n",
       "      <td>0.035</td>\n",
       "      <td>0.044</td>\n",
       "      <td>0.038</td>\n",
       "    </tr>\n",
       "    <tr>\n",
       "      <th>alpha</th>\n",
       "      <td>0.103</td>\n",
       "      <td>0.078</td>\n",
       "      <td>0.000</td>\n",
       "      <td>0.000</td>\n",
       "      <td>0.004</td>\n",
       "      <td>0.033</td>\n",
       "      <td>0.000</td>\n",
       "      <td>0.000</td>\n",
       "      <td>0.041</td>\n",
       "    </tr>\n",
       "    <tr>\n",
       "      <th>gamma</th>\n",
       "      <td>0.086</td>\n",
       "      <td>0.077</td>\n",
       "      <td>0.173</td>\n",
       "      <td>0.182</td>\n",
       "      <td>0.081</td>\n",
       "      <td>0.161</td>\n",
       "      <td>0.204</td>\n",
       "      <td>0.151</td>\n",
       "      <td>0.182</td>\n",
       "    </tr>\n",
       "    <tr>\n",
       "      <th>beta</th>\n",
       "      <td>0.788</td>\n",
       "      <td>0.855</td>\n",
       "      <td>0.853</td>\n",
       "      <td>0.855</td>\n",
       "      <td>0.940</td>\n",
       "      <td>0.817</td>\n",
       "      <td>0.850</td>\n",
       "      <td>0.870</td>\n",
       "      <td>0.823</td>\n",
       "    </tr>\n",
       "  </tbody>\n",
       "</table>\n",
       "</div>"
      ],
      "text/plain": [
       "         IGF   IFGL    IXN    IXJ    VDE    KXI   SPGP    VIS    RXI\n",
       "mu     0.026  0.027  0.061  0.045  0.003  0.027  0.053  0.040  0.046\n",
       "omega  0.044  0.024  0.052  0.036  0.023  0.034  0.035  0.044  0.038\n",
       "alpha  0.103  0.078  0.000  0.000  0.004  0.033  0.000  0.000  0.041\n",
       "gamma  0.086  0.077  0.173  0.182  0.081  0.161  0.204  0.151  0.182\n",
       "beta   0.788  0.855  0.853  0.855  0.940  0.817  0.850  0.870  0.823"
      ]
     },
     "execution_count": 24,
     "metadata": {},
     "output_type": "execute_result"
    }
   ],
   "source": [
    "param_est = pd.DataFrame(parameters, columns=['mu', 'omega', 'alpha','gamma', 'beta'])\n",
    "param_est.index  = mylist\n",
    "param_est = param_est.round(3).T\n",
    "param_est"
   ]
  },
  {
   "cell_type": "code",
   "execution_count": 25,
   "metadata": {},
   "outputs": [
    {
     "data": {
      "text/html": [
       "<div>\n",
       "<style scoped>\n",
       "    .dataframe tbody tr th:only-of-type {\n",
       "        vertical-align: middle;\n",
       "    }\n",
       "\n",
       "    .dataframe tbody tr th {\n",
       "        vertical-align: top;\n",
       "    }\n",
       "\n",
       "    .dataframe thead th {\n",
       "        text-align: right;\n",
       "    }\n",
       "</style>\n",
       "<table border=\"1\" class=\"dataframe\">\n",
       "  <thead>\n",
       "    <tr style=\"text-align: right;\">\n",
       "      <th></th>\n",
       "      <th>IGF</th>\n",
       "      <th>IFGL</th>\n",
       "      <th>IXN</th>\n",
       "      <th>IXJ</th>\n",
       "      <th>VDE</th>\n",
       "      <th>KXI</th>\n",
       "      <th>SPGP</th>\n",
       "      <th>VIS</th>\n",
       "      <th>RXI</th>\n",
       "    </tr>\n",
       "  </thead>\n",
       "  <tbody>\n",
       "    <tr>\n",
       "      <th>mu</th>\n",
       "      <td>0.016</td>\n",
       "      <td>0.017</td>\n",
       "      <td>0.021</td>\n",
       "      <td>0.017</td>\n",
       "      <td>0.026</td>\n",
       "      <td>0.014</td>\n",
       "      <td>0.018</td>\n",
       "      <td>0.019</td>\n",
       "      <td>0.017</td>\n",
       "    </tr>\n",
       "    <tr>\n",
       "      <th>omega</th>\n",
       "      <td>0.019</td>\n",
       "      <td>0.009</td>\n",
       "      <td>0.012</td>\n",
       "      <td>0.008</td>\n",
       "      <td>0.009</td>\n",
       "      <td>0.012</td>\n",
       "      <td>0.007</td>\n",
       "      <td>0.019</td>\n",
       "      <td>0.010</td>\n",
       "    </tr>\n",
       "    <tr>\n",
       "      <th>alpha</th>\n",
       "      <td>0.069</td>\n",
       "      <td>0.040</td>\n",
       "      <td>0.032</td>\n",
       "      <td>0.019</td>\n",
       "      <td>0.013</td>\n",
       "      <td>0.042</td>\n",
       "      <td>0.024</td>\n",
       "      <td>0.037</td>\n",
       "      <td>0.042</td>\n",
       "    </tr>\n",
       "    <tr>\n",
       "      <th>gamma</th>\n",
       "      <td>0.050</td>\n",
       "      <td>0.039</td>\n",
       "      <td>0.038</td>\n",
       "      <td>0.036</td>\n",
       "      <td>0.018</td>\n",
       "      <td>0.046</td>\n",
       "      <td>0.035</td>\n",
       "      <td>0.033</td>\n",
       "      <td>0.051</td>\n",
       "    </tr>\n",
       "    <tr>\n",
       "      <th>beta</th>\n",
       "      <td>0.070</td>\n",
       "      <td>0.034</td>\n",
       "      <td>0.028</td>\n",
       "      <td>0.024</td>\n",
       "      <td>0.018</td>\n",
       "      <td>0.055</td>\n",
       "      <td>0.027</td>\n",
       "      <td>0.061</td>\n",
       "      <td>0.029</td>\n",
       "    </tr>\n",
       "  </tbody>\n",
       "</table>\n",
       "</div>"
      ],
      "text/plain": [
       "         IGF   IFGL    IXN    IXJ    VDE    KXI   SPGP    VIS    RXI\n",
       "mu     0.016  0.017  0.021  0.017  0.026  0.014  0.018  0.019  0.017\n",
       "omega  0.019  0.009  0.012  0.008  0.009  0.012  0.007  0.019  0.010\n",
       "alpha  0.069  0.040  0.032  0.019  0.013  0.042  0.024  0.037  0.042\n",
       "gamma  0.050  0.039  0.038  0.036  0.018  0.046  0.035  0.033  0.051\n",
       "beta   0.070  0.034  0.028  0.024  0.018  0.055  0.027  0.061  0.029"
      ]
     },
     "execution_count": 25,
     "metadata": {},
     "output_type": "execute_result"
    }
   ],
   "source": [
    "std_error = pd.DataFrame(std_error, columns=['mu', 'omega', 'alpha','gamma', 'beta'])\n",
    "std_error.index  = mylist\n",
    "std_error = std_error.round(3).T\n",
    "std_error"
   ]
  },
  {
   "cell_type": "code",
   "execution_count": 26,
   "metadata": {},
   "outputs": [
    {
     "data": {
      "text/html": [
       "<div>\n",
       "<style scoped>\n",
       "    .dataframe tbody tr th:only-of-type {\n",
       "        vertical-align: middle;\n",
       "    }\n",
       "\n",
       "    .dataframe tbody tr th {\n",
       "        vertical-align: top;\n",
       "    }\n",
       "\n",
       "    .dataframe thead th {\n",
       "        text-align: right;\n",
       "    }\n",
       "</style>\n",
       "<table border=\"1\" class=\"dataframe\">\n",
       "  <thead>\n",
       "    <tr style=\"text-align: right;\">\n",
       "      <th></th>\n",
       "      <th>IGF</th>\n",
       "      <th>IFGL</th>\n",
       "      <th>IXN</th>\n",
       "      <th>IXJ</th>\n",
       "      <th>VDE</th>\n",
       "      <th>KXI</th>\n",
       "      <th>SPGP</th>\n",
       "      <th>VIS</th>\n",
       "      <th>RXI</th>\n",
       "    </tr>\n",
       "  </thead>\n",
       "  <tbody>\n",
       "    <tr>\n",
       "      <th>mu</th>\n",
       "      <td>0.118</td>\n",
       "      <td>0.111</td>\n",
       "      <td>0.003</td>\n",
       "      <td>0.007</td>\n",
       "      <td>0.922</td>\n",
       "      <td>0.060</td>\n",
       "      <td>0.003</td>\n",
       "      <td>0.040</td>\n",
       "      <td>0.007</td>\n",
       "    </tr>\n",
       "    <tr>\n",
       "      <th>omega</th>\n",
       "      <td>0.019</td>\n",
       "      <td>0.011</td>\n",
       "      <td>0.000</td>\n",
       "      <td>0.000</td>\n",
       "      <td>0.013</td>\n",
       "      <td>0.005</td>\n",
       "      <td>0.000</td>\n",
       "      <td>0.023</td>\n",
       "      <td>0.000</td>\n",
       "    </tr>\n",
       "    <tr>\n",
       "      <th>alpha</th>\n",
       "      <td>0.138</td>\n",
       "      <td>0.050</td>\n",
       "      <td>1.000</td>\n",
       "      <td>1.000</td>\n",
       "      <td>0.763</td>\n",
       "      <td>0.434</td>\n",
       "      <td>1.000</td>\n",
       "      <td>1.000</td>\n",
       "      <td>0.327</td>\n",
       "    </tr>\n",
       "    <tr>\n",
       "      <th>gamma</th>\n",
       "      <td>0.088</td>\n",
       "      <td>0.046</td>\n",
       "      <td>0.000</td>\n",
       "      <td>0.000</td>\n",
       "      <td>0.000</td>\n",
       "      <td>0.000</td>\n",
       "      <td>0.000</td>\n",
       "      <td>0.000</td>\n",
       "      <td>0.000</td>\n",
       "    </tr>\n",
       "    <tr>\n",
       "      <th>beta</th>\n",
       "      <td>0.000</td>\n",
       "      <td>0.000</td>\n",
       "      <td>0.000</td>\n",
       "      <td>0.000</td>\n",
       "      <td>0.000</td>\n",
       "      <td>0.000</td>\n",
       "      <td>0.000</td>\n",
       "      <td>0.000</td>\n",
       "      <td>0.000</td>\n",
       "    </tr>\n",
       "  </tbody>\n",
       "</table>\n",
       "</div>"
      ],
      "text/plain": [
       "         IGF   IFGL    IXN    IXJ    VDE    KXI   SPGP    VIS    RXI\n",
       "mu     0.118  0.111  0.003  0.007  0.922  0.060  0.003  0.040  0.007\n",
       "omega  0.019  0.011  0.000  0.000  0.013  0.005  0.000  0.023  0.000\n",
       "alpha  0.138  0.050  1.000  1.000  0.763  0.434  1.000  1.000  0.327\n",
       "gamma  0.088  0.046  0.000  0.000  0.000  0.000  0.000  0.000  0.000\n",
       "beta   0.000  0.000  0.000  0.000  0.000  0.000  0.000  0.000  0.000"
      ]
     },
     "execution_count": 26,
     "metadata": {},
     "output_type": "execute_result"
    }
   ],
   "source": [
    "p_values = pd.DataFrame(p_values, columns=['mu', 'omega', 'alpha','gamma', 'beta'])\n",
    "p_values.index  =mylist\n",
    "p_values = p_values.round(3).T\n",
    "p_values"
   ]
  },
  {
   "cell_type": "code",
   "execution_count": 27,
   "metadata": {},
   "outputs": [
    {
     "data": {
      "text/html": [
       "<div>\n",
       "<style scoped>\n",
       "    .dataframe tbody tr th:only-of-type {\n",
       "        vertical-align: middle;\n",
       "    }\n",
       "\n",
       "    .dataframe tbody tr th {\n",
       "        vertical-align: top;\n",
       "    }\n",
       "\n",
       "    .dataframe thead th {\n",
       "        text-align: right;\n",
       "    }\n",
       "</style>\n",
       "<table border=\"1\" class=\"dataframe\">\n",
       "  <thead>\n",
       "    <tr style=\"text-align: right;\">\n",
       "      <th></th>\n",
       "      <th>IGF</th>\n",
       "      <th>IFGL</th>\n",
       "      <th>IXN</th>\n",
       "      <th>IXJ</th>\n",
       "      <th>VDE</th>\n",
       "      <th>KXI</th>\n",
       "      <th>SPGP</th>\n",
       "      <th>VIS</th>\n",
       "      <th>RXI</th>\n",
       "    </tr>\n",
       "  </thead>\n",
       "  <tbody>\n",
       "    <tr>\n",
       "      <th>mu</th>\n",
       "      <td>0.026</td>\n",
       "      <td>0.027</td>\n",
       "      <td>0.061</td>\n",
       "      <td>0.045</td>\n",
       "      <td>0.003</td>\n",
       "      <td>0.027</td>\n",
       "      <td>0.053</td>\n",
       "      <td>0.040</td>\n",
       "      <td>0.046</td>\n",
       "    </tr>\n",
       "    <tr>\n",
       "      <th>mu</th>\n",
       "      <td>0.016</td>\n",
       "      <td>0.017</td>\n",
       "      <td>0.021</td>\n",
       "      <td>0.017</td>\n",
       "      <td>0.026</td>\n",
       "      <td>0.014</td>\n",
       "      <td>0.018</td>\n",
       "      <td>0.019</td>\n",
       "      <td>0.017</td>\n",
       "    </tr>\n",
       "    <tr>\n",
       "      <th>mu</th>\n",
       "      <td>0.118</td>\n",
       "      <td>0.111</td>\n",
       "      <td>0.003</td>\n",
       "      <td>0.007</td>\n",
       "      <td>0.922</td>\n",
       "      <td>0.060</td>\n",
       "      <td>0.003</td>\n",
       "      <td>0.040</td>\n",
       "      <td>0.007</td>\n",
       "    </tr>\n",
       "    <tr>\n",
       "      <th>omega</th>\n",
       "      <td>0.044</td>\n",
       "      <td>0.024</td>\n",
       "      <td>0.052</td>\n",
       "      <td>0.036</td>\n",
       "      <td>0.023</td>\n",
       "      <td>0.034</td>\n",
       "      <td>0.035</td>\n",
       "      <td>0.044</td>\n",
       "      <td>0.038</td>\n",
       "    </tr>\n",
       "    <tr>\n",
       "      <th>omega</th>\n",
       "      <td>0.019</td>\n",
       "      <td>0.009</td>\n",
       "      <td>0.012</td>\n",
       "      <td>0.008</td>\n",
       "      <td>0.009</td>\n",
       "      <td>0.012</td>\n",
       "      <td>0.007</td>\n",
       "      <td>0.019</td>\n",
       "      <td>0.010</td>\n",
       "    </tr>\n",
       "    <tr>\n",
       "      <th>omega</th>\n",
       "      <td>0.019</td>\n",
       "      <td>0.011</td>\n",
       "      <td>0.000</td>\n",
       "      <td>0.000</td>\n",
       "      <td>0.013</td>\n",
       "      <td>0.005</td>\n",
       "      <td>0.000</td>\n",
       "      <td>0.023</td>\n",
       "      <td>0.000</td>\n",
       "    </tr>\n",
       "    <tr>\n",
       "      <th>alpha</th>\n",
       "      <td>0.103</td>\n",
       "      <td>0.078</td>\n",
       "      <td>0.000</td>\n",
       "      <td>0.000</td>\n",
       "      <td>0.004</td>\n",
       "      <td>0.033</td>\n",
       "      <td>0.000</td>\n",
       "      <td>0.000</td>\n",
       "      <td>0.041</td>\n",
       "    </tr>\n",
       "    <tr>\n",
       "      <th>alpha</th>\n",
       "      <td>0.069</td>\n",
       "      <td>0.040</td>\n",
       "      <td>0.032</td>\n",
       "      <td>0.019</td>\n",
       "      <td>0.013</td>\n",
       "      <td>0.042</td>\n",
       "      <td>0.024</td>\n",
       "      <td>0.037</td>\n",
       "      <td>0.042</td>\n",
       "    </tr>\n",
       "    <tr>\n",
       "      <th>alpha</th>\n",
       "      <td>0.138</td>\n",
       "      <td>0.050</td>\n",
       "      <td>1.000</td>\n",
       "      <td>1.000</td>\n",
       "      <td>0.763</td>\n",
       "      <td>0.434</td>\n",
       "      <td>1.000</td>\n",
       "      <td>1.000</td>\n",
       "      <td>0.327</td>\n",
       "    </tr>\n",
       "    <tr>\n",
       "      <th>gamma</th>\n",
       "      <td>0.086</td>\n",
       "      <td>0.077</td>\n",
       "      <td>0.173</td>\n",
       "      <td>0.182</td>\n",
       "      <td>0.081</td>\n",
       "      <td>0.161</td>\n",
       "      <td>0.204</td>\n",
       "      <td>0.151</td>\n",
       "      <td>0.182</td>\n",
       "    </tr>\n",
       "    <tr>\n",
       "      <th>gamma</th>\n",
       "      <td>0.050</td>\n",
       "      <td>0.039</td>\n",
       "      <td>0.038</td>\n",
       "      <td>0.036</td>\n",
       "      <td>0.018</td>\n",
       "      <td>0.046</td>\n",
       "      <td>0.035</td>\n",
       "      <td>0.033</td>\n",
       "      <td>0.051</td>\n",
       "    </tr>\n",
       "    <tr>\n",
       "      <th>gamma</th>\n",
       "      <td>0.088</td>\n",
       "      <td>0.046</td>\n",
       "      <td>0.000</td>\n",
       "      <td>0.000</td>\n",
       "      <td>0.000</td>\n",
       "      <td>0.000</td>\n",
       "      <td>0.000</td>\n",
       "      <td>0.000</td>\n",
       "      <td>0.000</td>\n",
       "    </tr>\n",
       "    <tr>\n",
       "      <th>beta</th>\n",
       "      <td>0.788</td>\n",
       "      <td>0.855</td>\n",
       "      <td>0.853</td>\n",
       "      <td>0.855</td>\n",
       "      <td>0.940</td>\n",
       "      <td>0.817</td>\n",
       "      <td>0.850</td>\n",
       "      <td>0.870</td>\n",
       "      <td>0.823</td>\n",
       "    </tr>\n",
       "    <tr>\n",
       "      <th>beta</th>\n",
       "      <td>0.070</td>\n",
       "      <td>0.034</td>\n",
       "      <td>0.028</td>\n",
       "      <td>0.024</td>\n",
       "      <td>0.018</td>\n",
       "      <td>0.055</td>\n",
       "      <td>0.027</td>\n",
       "      <td>0.061</td>\n",
       "      <td>0.029</td>\n",
       "    </tr>\n",
       "    <tr>\n",
       "      <th>beta</th>\n",
       "      <td>0.000</td>\n",
       "      <td>0.000</td>\n",
       "      <td>0.000</td>\n",
       "      <td>0.000</td>\n",
       "      <td>0.000</td>\n",
       "      <td>0.000</td>\n",
       "      <td>0.000</td>\n",
       "      <td>0.000</td>\n",
       "      <td>0.000</td>\n",
       "    </tr>\n",
       "  </tbody>\n",
       "</table>\n",
       "</div>"
      ],
      "text/plain": [
       "         IGF   IFGL    IXN    IXJ    VDE    KXI   SPGP    VIS    RXI\n",
       "mu     0.026  0.027  0.061  0.045  0.003  0.027  0.053  0.040  0.046\n",
       "mu     0.016  0.017  0.021  0.017  0.026  0.014  0.018  0.019  0.017\n",
       "mu     0.118  0.111  0.003  0.007  0.922  0.060  0.003  0.040  0.007\n",
       "omega  0.044  0.024  0.052  0.036  0.023  0.034  0.035  0.044  0.038\n",
       "omega  0.019  0.009  0.012  0.008  0.009  0.012  0.007  0.019  0.010\n",
       "omega  0.019  0.011  0.000  0.000  0.013  0.005  0.000  0.023  0.000\n",
       "alpha  0.103  0.078  0.000  0.000  0.004  0.033  0.000  0.000  0.041\n",
       "alpha  0.069  0.040  0.032  0.019  0.013  0.042  0.024  0.037  0.042\n",
       "alpha  0.138  0.050  1.000  1.000  0.763  0.434  1.000  1.000  0.327\n",
       "gamma  0.086  0.077  0.173  0.182  0.081  0.161  0.204  0.151  0.182\n",
       "gamma  0.050  0.039  0.038  0.036  0.018  0.046  0.035  0.033  0.051\n",
       "gamma  0.088  0.046  0.000  0.000  0.000  0.000  0.000  0.000  0.000\n",
       "beta   0.788  0.855  0.853  0.855  0.940  0.817  0.850  0.870  0.823\n",
       "beta   0.070  0.034  0.028  0.024  0.018  0.055  0.027  0.061  0.029\n",
       "beta   0.000  0.000  0.000  0.000  0.000  0.000  0.000  0.000  0.000"
      ]
     },
     "execution_count": 27,
     "metadata": {},
     "output_type": "execute_result"
    }
   ],
   "source": [
    "est_result = []\n",
    "\n",
    "for i in range(len(param_est.index)):\n",
    "    est_result.append(param_est.iloc[i])\n",
    "    est_result.append(std_error.iloc[i])\n",
    "    est_result.append(p_values.iloc[i])\n",
    "    \n",
    "est_result = pd.DataFrame(est_result)\n",
    "est_result"
   ]
  },
  {
   "cell_type": "markdown",
   "metadata": {},
   "source": [
    "## Forecast - one period ahead"
   ]
  },
  {
   "cell_type": "code",
   "execution_count": 28,
   "metadata": {},
   "outputs": [
    {
     "data": {
      "text/plain": [
       "array([0.02572612, 0.02743108, 0.06116324, 0.0448615 , 0.00256625,\n",
       "       0.02710437, 0.05284264, 0.03963235, 0.04551036])"
      ]
     },
     "metadata": {},
     "output_type": "display_data"
    },
    {
     "data": {
      "text/plain": [
       "array([0.57250059, 0.59500873, 0.81929529, 0.66171694, 1.549411  ,\n",
       "       0.44556731, 0.71802026, 0.75863399, 0.82954371])"
      ]
     },
     "metadata": {},
     "output_type": "display_data"
    }
   ],
   "source": [
    "# All mu (expected return)\n",
    "F_mu = parameters[:, 0]\n",
    "display(F_mu)\n",
    "\n",
    "# Forecasted variances\n",
    "F_var = forecast_variance\n",
    "display(F_var)\n",
    "\n",
    "#parameters"
   ]
  },
  {
   "cell_type": "code",
   "execution_count": 29,
   "metadata": {},
   "outputs": [
    {
     "data": {
      "text/html": [
       "<div>\n",
       "<style scoped>\n",
       "    .dataframe tbody tr th:only-of-type {\n",
       "        vertical-align: middle;\n",
       "    }\n",
       "\n",
       "    .dataframe tbody tr th {\n",
       "        vertical-align: top;\n",
       "    }\n",
       "\n",
       "    .dataframe thead th {\n",
       "        text-align: right;\n",
       "    }\n",
       "</style>\n",
       "<table border=\"1\" class=\"dataframe\">\n",
       "  <thead>\n",
       "    <tr style=\"text-align: right;\">\n",
       "      <th></th>\n",
       "      <th>IGF</th>\n",
       "      <th>IFGL</th>\n",
       "      <th>IXN</th>\n",
       "      <th>IXJ</th>\n",
       "      <th>VDE</th>\n",
       "      <th>KXI</th>\n",
       "      <th>SPGP</th>\n",
       "      <th>VIS</th>\n",
       "      <th>RXI</th>\n",
       "    </tr>\n",
       "  </thead>\n",
       "  <tbody>\n",
       "    <tr>\n",
       "      <th>IGF</th>\n",
       "      <td>0.57</td>\n",
       "      <td>0.52</td>\n",
       "      <td>0.54</td>\n",
       "      <td>0.45</td>\n",
       "      <td>0.67</td>\n",
       "      <td>0.42</td>\n",
       "      <td>0.44</td>\n",
       "      <td>0.51</td>\n",
       "      <td>0.52</td>\n",
       "    </tr>\n",
       "    <tr>\n",
       "      <th>IFGL</th>\n",
       "      <td>0.52</td>\n",
       "      <td>0.60</td>\n",
       "      <td>0.57</td>\n",
       "      <td>0.46</td>\n",
       "      <td>0.60</td>\n",
       "      <td>0.42</td>\n",
       "      <td>0.45</td>\n",
       "      <td>0.52</td>\n",
       "      <td>0.56</td>\n",
       "    </tr>\n",
       "    <tr>\n",
       "      <th>IXN</th>\n",
       "      <td>0.54</td>\n",
       "      <td>0.57</td>\n",
       "      <td>0.82</td>\n",
       "      <td>0.62</td>\n",
       "      <td>0.77</td>\n",
       "      <td>0.47</td>\n",
       "      <td>0.79</td>\n",
       "      <td>0.76</td>\n",
       "      <td>0.76</td>\n",
       "    </tr>\n",
       "    <tr>\n",
       "      <th>IXJ</th>\n",
       "      <td>0.45</td>\n",
       "      <td>0.46</td>\n",
       "      <td>0.62</td>\n",
       "      <td>0.66</td>\n",
       "      <td>0.58</td>\n",
       "      <td>0.42</td>\n",
       "      <td>0.57</td>\n",
       "      <td>0.57</td>\n",
       "      <td>0.57</td>\n",
       "    </tr>\n",
       "    <tr>\n",
       "      <th>VDE</th>\n",
       "      <td>0.67</td>\n",
       "      <td>0.60</td>\n",
       "      <td>0.77</td>\n",
       "      <td>0.58</td>\n",
       "      <td>1.55</td>\n",
       "      <td>0.45</td>\n",
       "      <td>0.66</td>\n",
       "      <td>0.83</td>\n",
       "      <td>0.72</td>\n",
       "    </tr>\n",
       "    <tr>\n",
       "      <th>KXI</th>\n",
       "      <td>0.42</td>\n",
       "      <td>0.42</td>\n",
       "      <td>0.47</td>\n",
       "      <td>0.42</td>\n",
       "      <td>0.45</td>\n",
       "      <td>0.45</td>\n",
       "      <td>0.40</td>\n",
       "      <td>0.44</td>\n",
       "      <td>0.46</td>\n",
       "    </tr>\n",
       "    <tr>\n",
       "      <th>SPGP</th>\n",
       "      <td>0.44</td>\n",
       "      <td>0.45</td>\n",
       "      <td>0.79</td>\n",
       "      <td>0.57</td>\n",
       "      <td>0.66</td>\n",
       "      <td>0.40</td>\n",
       "      <td>0.72</td>\n",
       "      <td>0.66</td>\n",
       "      <td>0.66</td>\n",
       "    </tr>\n",
       "    <tr>\n",
       "      <th>VIS</th>\n",
       "      <td>0.51</td>\n",
       "      <td>0.52</td>\n",
       "      <td>0.76</td>\n",
       "      <td>0.57</td>\n",
       "      <td>0.83</td>\n",
       "      <td>0.44</td>\n",
       "      <td>0.66</td>\n",
       "      <td>0.76</td>\n",
       "      <td>0.70</td>\n",
       "    </tr>\n",
       "    <tr>\n",
       "      <th>RXI</th>\n",
       "      <td>0.52</td>\n",
       "      <td>0.56</td>\n",
       "      <td>0.76</td>\n",
       "      <td>0.57</td>\n",
       "      <td>0.72</td>\n",
       "      <td>0.46</td>\n",
       "      <td>0.66</td>\n",
       "      <td>0.70</td>\n",
       "      <td>0.83</td>\n",
       "    </tr>\n",
       "  </tbody>\n",
       "</table>\n",
       "</div>"
      ],
      "text/plain": [
       "       IGF  IFGL   IXN   IXJ   VDE   KXI  SPGP   VIS   RXI\n",
       "IGF   0.57  0.52  0.54  0.45  0.67  0.42  0.44  0.51  0.52\n",
       "IFGL  0.52  0.60  0.57  0.46  0.60  0.42  0.45  0.52  0.56\n",
       "IXN   0.54  0.57  0.82  0.62  0.77  0.47  0.79  0.76  0.76\n",
       "IXJ   0.45  0.46  0.62  0.66  0.58  0.42  0.57  0.57  0.57\n",
       "VDE   0.67  0.60  0.77  0.58  1.55  0.45  0.66  0.83  0.72\n",
       "KXI   0.42  0.42  0.47  0.42  0.45  0.45  0.40  0.44  0.46\n",
       "SPGP  0.44  0.45  0.79  0.57  0.66  0.40  0.72  0.66  0.66\n",
       "VIS   0.51  0.52  0.76  0.57  0.83  0.44  0.66  0.76  0.70\n",
       "RXI   0.52  0.56  0.76  0.57  0.72  0.46  0.66  0.70  0.83"
      ]
     },
     "execution_count": 29,
     "metadata": {},
     "output_type": "execute_result"
    }
   ],
   "source": [
    "Omega_forecast = rets.cov()\n",
    "np.fill_diagonal(Omega_forecast.values, F_var)\n",
    "Omega_forecast.round(2)"
   ]
  },
  {
   "cell_type": "markdown",
   "metadata": {},
   "source": [
    "## one period ahead vol portfolio"
   ]
  },
  {
   "cell_type": "code",
   "execution_count": 30,
   "metadata": {},
   "outputs": [
    {
     "name": "stdout",
     "output_type": "stream",
     "text": [
      "Optimal parameter values =  [ 0.      1.5759 18.8048]\n",
      "Check that eq holds: [ 0. -0.  0.]\n"
     ]
    }
   ],
   "source": [
    "# All-in-one method\n",
    "df,w_min, ret_min, vol_min, SR_min, w_eff, ret_eff, vol_eff, SR_eff, w_tan, ret_tan, vol_tan, SR_tan, evols, erets,front_vol, front_ret, opt  = matrix_optimize.portfolio_selection(mu=rets.mean(), omega=Omega_forecast, noa=noa, mylist=mylist, target_return=30/252)"
   ]
  },
  {
   "cell_type": "code",
   "execution_count": 32,
   "metadata": {},
   "outputs": [
    {
     "data": {
      "text/html": [
       "<div>\n",
       "<style scoped>\n",
       "    .dataframe tbody tr th:only-of-type {\n",
       "        vertical-align: middle;\n",
       "    }\n",
       "\n",
       "    .dataframe tbody tr th {\n",
       "        vertical-align: top;\n",
       "    }\n",
       "\n",
       "    .dataframe thead th {\n",
       "        text-align: right;\n",
       "    }\n",
       "</style>\n",
       "<table border=\"1\" class=\"dataframe\">\n",
       "  <thead>\n",
       "    <tr style=\"text-align: right;\">\n",
       "      <th></th>\n",
       "      <th>IGF</th>\n",
       "      <th>IFGL</th>\n",
       "      <th>IXN</th>\n",
       "      <th>IXJ</th>\n",
       "      <th>VDE</th>\n",
       "      <th>KXI</th>\n",
       "      <th>SPGP</th>\n",
       "      <th>VIS</th>\n",
       "      <th>RXI</th>\n",
       "      <th>Exp. ret</th>\n",
       "      <th>Exp. vol</th>\n",
       "      <th>SR</th>\n",
       "    </tr>\n",
       "  </thead>\n",
       "  <tbody>\n",
       "    <tr>\n",
       "      <th>Min. vol</th>\n",
       "      <td>0.024000</td>\n",
       "      <td>-0.006000</td>\n",
       "      <td>1.141000</td>\n",
       "      <td>0.209</td>\n",
       "      <td>-0.003000</td>\n",
       "      <td>0.954000</td>\n",
       "      <td>-0.720000</td>\n",
       "      <td>-0.291000</td>\n",
       "      <td>-0.307000</td>\n",
       "      <td>10.513698</td>\n",
       "      <td>11.205587</td>\n",
       "      <td>0.938255</td>\n",
       "    </tr>\n",
       "    <tr>\n",
       "      <th>Tangent</th>\n",
       "      <td>0.919905</td>\n",
       "      <td>-0.741533</td>\n",
       "      <td>0.332211</td>\n",
       "      <td>0.012</td>\n",
       "      <td>-1.124613</td>\n",
       "      <td>-0.091387</td>\n",
       "      <td>0.721367</td>\n",
       "      <td>1.195905</td>\n",
       "      <td>-0.223844</td>\n",
       "      <td>29.805241</td>\n",
       "      <td>18.912769</td>\n",
       "      <td>1.575932</td>\n",
       "    </tr>\n",
       "  </tbody>\n",
       "</table>\n",
       "</div>"
      ],
      "text/plain": [
       "               IGF      IFGL       IXN    IXJ       VDE       KXI      SPGP  \\\n",
       "Min. vol  0.024000 -0.006000  1.141000  0.209 -0.003000  0.954000 -0.720000   \n",
       "Tangent   0.919905 -0.741533  0.332211  0.012 -1.124613 -0.091387  0.721367   \n",
       "\n",
       "               VIS       RXI   Exp. ret   Exp. vol        SR  \n",
       "Min. vol -0.291000 -0.307000  10.513698  11.205587  0.938255  \n",
       "Tangent   1.195905 -0.223844  29.805241  18.912769  1.575932  "
      ]
     },
     "execution_count": 32,
     "metadata": {},
     "output_type": "execute_result"
    }
   ],
   "source": [
    "df"
   ]
  },
  {
   "cell_type": "code",
   "execution_count": 33,
   "metadata": {},
   "outputs": [
    {
     "data": {
      "image/png": "[encoded data removed]",
      "text/plain": [
       "<Figure size 720x432 with 1 Axes>"
      ]
     },
     "metadata": {
      "needs_background": "light"
     },
     "output_type": "display_data"
    }
   ],
   "source": [
    "rf=0\n",
    "fig, ax = plt.subplots(nrows=1, ncols=1, figsize=(10,6))\n",
    "\n",
    "plt.plot(evols, erets, 'b', lw=3.0, label='Effecient frontier')\n",
    "\n",
    "cx = np.linspace(0.0, 40.0)\n",
    "plt.plot(cx, opt[0] + opt[1] * cx, 'r', lw=1.5)\n",
    "\n",
    "plt.plot(opt[2], ret_tan, 'g*', markersize=15, label='Tangent Portfolio')\n",
    "plt.plot(vol_min, ret_min, 'r*', markersize=15.0, label='min vol. portfolio')\n",
    "\n",
    "\n",
    "plt.grid(True)\n",
    "axes = plt.gca()\n",
    "axes.set_xlim([0,25])\n",
    "axes.set_ylim([0,40])\n",
    "plt.xlabel('Annualized Expected Volatility, $\\%$')\n",
    "plt.ylabel('Annualized Expected Return, $\\%$')\n",
    "# plt.title('Annualized Portfolio FHS Return and Volatility')\n",
    "plt.legend()\n",
    "\n",
    "plt.savefig('forecast_tangent_port.png', dpi=300, bbox_inches='tight')"
   ]
  },
  {
   "cell_type": "markdown",
   "metadata": {},
   "source": [
    "\n",
    "## Forecast one-period Conclusion"
   ]
  },
  {
   "cell_type": "code",
   "execution_count": null,
   "metadata": {},
   "outputs": [],
   "source": []
  },
  {
   "cell_type": "markdown",
   "metadata": {},
   "source": [
    "## Simulation FHS"
   ]
  },
  {
   "cell_type": "markdown",
   "metadata": {},
   "source": [
    "\\begin{align}\n",
    "    r_{t} &= \\mu + \\sigma_{t} z_{t} \\\\\n",
    "    \\sigma^2_{t} &= \\omega + \\alpha r_{t-1}^2 + \\gamma 1_{r_{t-1}<0}r_{t-1} + \\beta \\sigma_{t-1}^2  \\\\\n",
    "    z &\\sim \\textit{i.i.d. } \\mathcal{N}(0,1)\n",
    "\\end{align}"
   ]
  },
  {
   "cell_type": "code",
   "execution_count": 34,
   "metadata": {},
   "outputs": [],
   "source": [
    "import math\n",
    "import numpy as np\n",
    "import numpy.random as npr\n",
    "from pylab import plt, mpl"
   ]
  },
  {
   "cell_type": "code",
   "execution_count": 35,
   "metadata": {},
   "outputs": [],
   "source": [
    "mpl.rcParams['font.family'] = 'serif'\n",
    "%matplotlib inline"
   ]
  },
  {
   "cell_type": "code",
   "execution_count": 36,
   "metadata": {},
   "outputs": [],
   "source": [
    "# Need in and out of sample for other purposes\n",
    "train, test = rets[:-n_time], rets[-n_time : H]"
   ]
  },
  {
   "cell_type": "code",
   "execution_count": 37,
   "metadata": {},
   "outputs": [
    {
     "data": {
      "text/plain": [
       "60"
      ]
     },
     "execution_count": 37,
     "metadata": {},
     "output_type": "execute_result"
    }
   ],
   "source": [
    "len(test)"
   ]
  },
  {
   "cell_type": "code",
   "execution_count": 38,
   "metadata": {},
   "outputs": [],
   "source": [
    "# Filtered Historical Simulation\n",
    " \n",
    "#npr.seed(741)\n",
    "N = n_test # 10\n",
    "\n",
    "# Create dictionaries\n",
    "SIM_RET = {}\n",
    "SIM_SIGMA = {}\n",
    "ACC_RET = {}\n",
    "AVG_RET = {}\n",
    "AVG_VOL = {}\n",
    "\n",
    "# Loop over assets\n",
    "for j,x in enumerate(mylist):  #range(noa):\n",
    "\n",
    "    # Define parameters for the given asset\n",
    "    param = parameters[j]\n",
    "    mu = param[0]\n",
    "    omega = param[1]\n",
    "    alpha = param[2]\n",
    "    gamma = param[3]\n",
    "    beta = param[4]\n",
    "    acc_ret = []\n",
    "    avg_ret = [] \n",
    "    avg_vol = []\n",
    "    \n",
    "    # Define vector for simulated sigma_(t+1) for GARCH(1,1)\n",
    "    sim_sigma = np.empty(N)\n",
    "    sim_sigma[0] = ((train[x][-1] - mu)/ std_resid[j][-n_test])       # sigma_t+1 is predetermined\n",
    "    \n",
    "    # Loop for simulations\n",
    "    for i in range(5000):\n",
    "        z = random.sample(list(std_resid[j][:-n_test]), N)            # Bootstrap random draw from std.res.\n",
    "        sim_ret = np.empty(N)                                          # Define empty vector for simulated return\n",
    "        \n",
    "        # Loop for horizon\n",
    "        for n in range(N-1):\n",
    "            sim_ret[n] = mu + sim_sigma[n] * z[n]\n",
    "            if sim_ret[n]>0:\n",
    "                sim_sigma[n+1] =  math.sqrt(omega + alpha * sim_ret[n]**2 + beta * sim_sigma[n]**2)\n",
    "            else:\n",
    "                sim_sigma[n+1] = math.sqrt(omega + alpha * sim_ret[n]**2 + gamma * sim_ret[n]**2 \n",
    "                                           + beta * sim_sigma[n]**2)\n",
    "        \n",
    "        acc_ret.append(np.sum(sim_ret))                               # all 50.000 accumulated return\n",
    "        avg_ret.append(np.mean(sim_ret))                              # all 50.000 average return\n",
    "        avg_vol.append(np.mean(sim_sigma))                            # all 50.000 average sigma \n",
    "\n",
    "    ACC_RET[\"FHS_{0}\".format(x)] = acc_ret\n",
    "    AVG_RET[\"FHS_{0}\".format(x)] = avg_ret\n",
    "    AVG_VOL[\"FHS_{0}\".format(x)] = avg_vol"
   ]
  },
  {
   "cell_type": "code",
   "execution_count": 39,
   "metadata": {},
   "outputs": [
    {
     "data": {
      "image/png": "[encoded data removed]",
      "text/plain": [
       "<Figure size 720x432 with 1 Axes>"
      ]
     },
     "metadata": {
      "needs_background": "light"
     },
     "output_type": "display_data"
    }
   ],
   "source": [
    "plt.figure(figsize=(10,6))\n",
    "\n",
    "for i in mylist:\n",
    "    plt.hist(AVG_RET['FHS_%s' %i], bins=500, label='FHS %s vol' %i)\n",
    "\n",
    "plt.legend()\n",
    "plt.xlabel('Simulated average daily return. %')\n",
    "plt.ylabel('Frequency')\n",
    "#plt.title('Distribution of Simmulated returns (FHS), %')\n",
    "\n",
    "#plt.show()\n",
    "plt.savefig('FHS_dist.png', dpi=300, bbox_inches='tight')"
   ]
  },
  {
   "cell_type": "markdown",
   "metadata": {},
   "source": [
    "Now We have obtained estimates for the 30-period expected return and variance for each asset.\n",
    "\n",
    "Assuming constant correlation between the assets, we have obtained a new covariance matrix. And expected return, so we can construct a new effecient portfolio. "
   ]
  },
  {
   "cell_type": "code",
   "execution_count": 40,
   "metadata": {},
   "outputs": [
    {
     "data": {
      "text/plain": [
       "FHS_IGF     0.017\n",
       "FHS_IFGL    0.025\n",
       "FHS_IXN     0.053\n",
       "FHS_IXJ     0.053\n",
       "FHS_VDE    -0.021\n",
       "FHS_KXI     0.042\n",
       "FHS_SPGP    0.046\n",
       "FHS_VIS     0.041\n",
       "FHS_RXI     0.049\n",
       "dtype: float64"
      ]
     },
     "metadata": {},
     "output_type": "display_data"
    },
    {
     "data": {
      "text/plain": [
       "FHS_IGF      0.597\n",
       "FHS_IFGL     0.773\n",
       "FHS_IXN      3.779\n",
       "FHS_IXJ      0.592\n",
       "FHS_VDE     26.745\n",
       "FHS_KXI      1.136\n",
       "FHS_SPGP     3.782\n",
       "FHS_VIS      2.813\n",
       "FHS_RXI      1.329\n",
       "dtype: float64"
      ]
     },
     "metadata": {},
     "output_type": "display_data"
    },
    {
     "data": {
      "text/plain": [
       "FHS_IGF     0.773\n",
       "FHS_IFGL    0.879\n",
       "FHS_IXN     1.944\n",
       "FHS_IXJ     0.769\n",
       "FHS_VDE     5.172\n",
       "FHS_KXI     1.066\n",
       "FHS_SPGP    1.945\n",
       "FHS_VIS     1.677\n",
       "FHS_RXI     1.153\n",
       "dtype: float64"
      ]
     },
     "metadata": {},
     "output_type": "display_data"
    }
   ],
   "source": [
    "# Daily return (average):\n",
    "FHS_mu = pd.DataFrame.from_dict(ACC_RET).mean()/N\n",
    "display(FHS_mu.round(3))   # compare to rets.mean()\n",
    "\n",
    "# Daily average volatilty:\n",
    "FHS_var = (pd.DataFrame.from_dict(AVG_VOL).mean()**2)\n",
    "display(FHS_var.round(3))  # compare to display(rets.var().round(3))\n",
    "\n",
    "# Daily vol\n",
    "FHS_vol = pd.DataFrame.from_dict(AVG_VOL).mean()\n",
    "display(FHS_vol.round(3))\n",
    "\n",
    "# Define list of labels\n",
    "#FHS_label = FHS_vol.index"
   ]
  },
  {
   "cell_type": "code",
   "execution_count": 41,
   "metadata": {},
   "outputs": [
    {
     "data": {
      "text/html": [
       "<div>\n",
       "<style scoped>\n",
       "    .dataframe tbody tr th:only-of-type {\n",
       "        vertical-align: middle;\n",
       "    }\n",
       "\n",
       "    .dataframe tbody tr th {\n",
       "        vertical-align: top;\n",
       "    }\n",
       "\n",
       "    .dataframe thead th {\n",
       "        text-align: right;\n",
       "    }\n",
       "</style>\n",
       "<table border=\"1\" class=\"dataframe\">\n",
       "  <thead>\n",
       "    <tr style=\"text-align: right;\">\n",
       "      <th></th>\n",
       "      <th>IGF</th>\n",
       "      <th>IFGL</th>\n",
       "      <th>IXN</th>\n",
       "      <th>IXJ</th>\n",
       "      <th>VDE</th>\n",
       "      <th>KXI</th>\n",
       "      <th>SPGP</th>\n",
       "      <th>VIS</th>\n",
       "      <th>RXI</th>\n",
       "    </tr>\n",
       "  </thead>\n",
       "  <tbody>\n",
       "    <tr>\n",
       "      <th>IGF</th>\n",
       "      <td>0.60</td>\n",
       "      <td>0.52</td>\n",
       "      <td>0.54</td>\n",
       "      <td>0.45</td>\n",
       "      <td>0.67</td>\n",
       "      <td>0.42</td>\n",
       "      <td>0.44</td>\n",
       "      <td>0.51</td>\n",
       "      <td>0.52</td>\n",
       "    </tr>\n",
       "    <tr>\n",
       "      <th>IFGL</th>\n",
       "      <td>0.52</td>\n",
       "      <td>0.77</td>\n",
       "      <td>0.57</td>\n",
       "      <td>0.46</td>\n",
       "      <td>0.60</td>\n",
       "      <td>0.42</td>\n",
       "      <td>0.45</td>\n",
       "      <td>0.52</td>\n",
       "      <td>0.56</td>\n",
       "    </tr>\n",
       "    <tr>\n",
       "      <th>IXN</th>\n",
       "      <td>0.54</td>\n",
       "      <td>0.57</td>\n",
       "      <td>3.78</td>\n",
       "      <td>0.62</td>\n",
       "      <td>0.77</td>\n",
       "      <td>0.47</td>\n",
       "      <td>0.79</td>\n",
       "      <td>0.76</td>\n",
       "      <td>0.76</td>\n",
       "    </tr>\n",
       "    <tr>\n",
       "      <th>IXJ</th>\n",
       "      <td>0.45</td>\n",
       "      <td>0.46</td>\n",
       "      <td>0.62</td>\n",
       "      <td>0.59</td>\n",
       "      <td>0.58</td>\n",
       "      <td>0.42</td>\n",
       "      <td>0.57</td>\n",
       "      <td>0.57</td>\n",
       "      <td>0.57</td>\n",
       "    </tr>\n",
       "    <tr>\n",
       "      <th>VDE</th>\n",
       "      <td>0.67</td>\n",
       "      <td>0.60</td>\n",
       "      <td>0.77</td>\n",
       "      <td>0.58</td>\n",
       "      <td>26.74</td>\n",
       "      <td>0.45</td>\n",
       "      <td>0.66</td>\n",
       "      <td>0.83</td>\n",
       "      <td>0.72</td>\n",
       "    </tr>\n",
       "    <tr>\n",
       "      <th>KXI</th>\n",
       "      <td>0.42</td>\n",
       "      <td>0.42</td>\n",
       "      <td>0.47</td>\n",
       "      <td>0.42</td>\n",
       "      <td>0.45</td>\n",
       "      <td>1.14</td>\n",
       "      <td>0.40</td>\n",
       "      <td>0.44</td>\n",
       "      <td>0.46</td>\n",
       "    </tr>\n",
       "    <tr>\n",
       "      <th>SPGP</th>\n",
       "      <td>0.44</td>\n",
       "      <td>0.45</td>\n",
       "      <td>0.79</td>\n",
       "      <td>0.57</td>\n",
       "      <td>0.66</td>\n",
       "      <td>0.40</td>\n",
       "      <td>3.78</td>\n",
       "      <td>0.66</td>\n",
       "      <td>0.66</td>\n",
       "    </tr>\n",
       "    <tr>\n",
       "      <th>VIS</th>\n",
       "      <td>0.51</td>\n",
       "      <td>0.52</td>\n",
       "      <td>0.76</td>\n",
       "      <td>0.57</td>\n",
       "      <td>0.83</td>\n",
       "      <td>0.44</td>\n",
       "      <td>0.66</td>\n",
       "      <td>2.81</td>\n",
       "      <td>0.70</td>\n",
       "    </tr>\n",
       "    <tr>\n",
       "      <th>RXI</th>\n",
       "      <td>0.52</td>\n",
       "      <td>0.56</td>\n",
       "      <td>0.76</td>\n",
       "      <td>0.57</td>\n",
       "      <td>0.72</td>\n",
       "      <td>0.46</td>\n",
       "      <td>0.66</td>\n",
       "      <td>0.70</td>\n",
       "      <td>1.33</td>\n",
       "    </tr>\n",
       "  </tbody>\n",
       "</table>\n",
       "</div>"
      ],
      "text/plain": [
       "       IGF  IFGL   IXN   IXJ    VDE   KXI  SPGP   VIS   RXI\n",
       "IGF   0.60  0.52  0.54  0.45   0.67  0.42  0.44  0.51  0.52\n",
       "IFGL  0.52  0.77  0.57  0.46   0.60  0.42  0.45  0.52  0.56\n",
       "IXN   0.54  0.57  3.78  0.62   0.77  0.47  0.79  0.76  0.76\n",
       "IXJ   0.45  0.46  0.62  0.59   0.58  0.42  0.57  0.57  0.57\n",
       "VDE   0.67  0.60  0.77  0.58  26.74  0.45  0.66  0.83  0.72\n",
       "KXI   0.42  0.42  0.47  0.42   0.45  1.14  0.40  0.44  0.46\n",
       "SPGP  0.44  0.45  0.79  0.57   0.66  0.40  3.78  0.66  0.66\n",
       "VIS   0.51  0.52  0.76  0.57   0.83  0.44  0.66  2.81  0.70\n",
       "RXI   0.52  0.56  0.76  0.57   0.72  0.46  0.66  0.70  1.33"
      ]
     },
     "execution_count": 41,
     "metadata": {},
     "output_type": "execute_result"
    }
   ],
   "source": [
    "FHS_omega = rets.cov()\n",
    "np.fill_diagonal(FHS_omega.values, FHS_var)\n",
    "FHS_omega.round(2)"
   ]
  },
  {
   "cell_type": "code",
   "execution_count": 44,
   "metadata": {},
   "outputs": [
    {
     "name": "stdout",
     "output_type": "stream",
     "text": [
      "Optimal parameter values =  [ 0.      1.334  18.8641]\n",
      "Check that eq holds: [0. 0. 0.]\n"
     ]
    }
   ],
   "source": [
    "# All-in-one method\n",
    "df,w_min, ret_min, vol_min, SR_min, w_eff, ret_eff, vol_eff, SR_eff, w_tan, ret_tan, vol_tan, SR_tan, evols, erets,front_vol, front_ret, opt = matrix_optimize.portfolio_selection(mu=FHS_mu, omega=FHS_omega, noa=noa, mylist=mylist, target_return=30/252)"
   ]
  },
  {
   "cell_type": "code",
   "execution_count": 47,
   "metadata": {},
   "outputs": [
    {
     "data": {
      "text/html": [
       "<div>\n",
       "<style scoped>\n",
       "    .dataframe tbody tr th:only-of-type {\n",
       "        vertical-align: middle;\n",
       "    }\n",
       "\n",
       "    .dataframe tbody tr th {\n",
       "        vertical-align: top;\n",
       "    }\n",
       "\n",
       "    .dataframe thead th {\n",
       "        text-align: right;\n",
       "    }\n",
       "</style>\n",
       "<table border=\"1\" class=\"dataframe\">\n",
       "  <thead>\n",
       "    <tr style=\"text-align: right;\">\n",
       "      <th></th>\n",
       "      <th>IGF</th>\n",
       "      <th>IFGL</th>\n",
       "      <th>IXN</th>\n",
       "      <th>IXJ</th>\n",
       "      <th>VDE</th>\n",
       "      <th>KXI</th>\n",
       "      <th>SPGP</th>\n",
       "      <th>VIS</th>\n",
       "      <th>RXI</th>\n",
       "      <th>Exp. ret</th>\n",
       "      <th>Exp. vol</th>\n",
       "      <th>SR</th>\n",
       "    </tr>\n",
       "  </thead>\n",
       "  <tbody>\n",
       "    <tr>\n",
       "      <th>Min. vol</th>\n",
       "      <td>0.372000</td>\n",
       "      <td>0.108000</td>\n",
       "      <td>-0.018000</td>\n",
       "      <td>0.455000</td>\n",
       "      <td>-0.003000</td>\n",
       "      <td>0.121000</td>\n",
       "      <td>0.007000</td>\n",
       "      <td>-0.006000</td>\n",
       "      <td>-0.036000</td>\n",
       "      <td>8.970077</td>\n",
       "      <td>11.260082</td>\n",
       "      <td>0.796626</td>\n",
       "    </tr>\n",
       "    <tr>\n",
       "      <th>Tangent</th>\n",
       "      <td>-1.296392</td>\n",
       "      <td>-0.081905</td>\n",
       "      <td>0.017367</td>\n",
       "      <td>2.041126</td>\n",
       "      <td>-0.027603</td>\n",
       "      <td>0.259392</td>\n",
       "      <td>-0.022985</td>\n",
       "      <td>-0.022915</td>\n",
       "      <td>0.134683</td>\n",
       "      <td>25.139418</td>\n",
       "      <td>18.845181</td>\n",
       "      <td>1.333997</td>\n",
       "    </tr>\n",
       "  </tbody>\n",
       "</table>\n",
       "</div>"
      ],
      "text/plain": [
       "               IGF      IFGL       IXN       IXJ       VDE       KXI  \\\n",
       "Min. vol  0.372000  0.108000 -0.018000  0.455000 -0.003000  0.121000   \n",
       "Tangent  -1.296392 -0.081905  0.017367  2.041126 -0.027603  0.259392   \n",
       "\n",
       "              SPGP       VIS       RXI   Exp. ret   Exp. vol        SR  \n",
       "Min. vol  0.007000 -0.006000 -0.036000   8.970077  11.260082  0.796626  \n",
       "Tangent  -0.022985 -0.022915  0.134683  25.139418  18.845181  1.333997  "
      ]
     },
     "execution_count": 47,
     "metadata": {},
     "output_type": "execute_result"
    }
   ],
   "source": [
    "df"
   ]
  },
  {
   "cell_type": "code",
   "execution_count": 46,
   "metadata": {},
   "outputs": [
    {
     "data": {
      "text/plain": [
       "array([ 0.372,  0.108, -0.018,  0.455, -0.003,  0.121,  0.007, -0.006,\n",
       "       -0.036])"
      ]
     },
     "execution_count": 46,
     "metadata": {},
     "output_type": "execute_result"
    }
   ],
   "source": [
    "w_min"
   ]
  },
  {
   "cell_type": "code",
   "execution_count": 48,
   "metadata": {},
   "outputs": [
    {
     "data": {
      "image/png": "[encoded data removed]",
      "text/plain": [
       "<Figure size 720x432 with 1 Axes>"
      ]
     },
     "metadata": {
      "needs_background": "light"
     },
     "output_type": "display_data"
    }
   ],
   "source": [
    "fig, ax = plt.subplots(nrows=1, ncols=1, figsize=(10,6))\n",
    "\n",
    "plt.plot(front_vol, front_ret)\n",
    "\n",
    "plt.plot(vol_eff, ret_eff, 'b*', markersize=15.0, label='Target return portfolio')\n",
    "plt.plot(vol_min, ret_min, 'r*', markersize=15.0, label='min vol. portfolio')\n",
    "\n",
    "    \n",
    "plt.xlabel('Annualized Expected Volatility, $\\%$')\n",
    "plt.ylabel('Annualized Expected Return, $\\%$')\n",
    "plt.title('Annualized Portfolio Return and Volatility')\n",
    "\n",
    "plt.legend()\n",
    "plt.show()"
   ]
  },
  {
   "cell_type": "markdown",
   "metadata": {},
   "source": [
    "## Tangent Portfolio"
   ]
  },
  {
   "cell_type": "code",
   "execution_count": 49,
   "metadata": {},
   "outputs": [
    {
     "data": {
      "image/png": "[encoded data removed]",
      "text/plain": [
       "<Figure size 720x432 with 1 Axes>"
      ]
     },
     "metadata": {
      "needs_background": "light"
     },
     "output_type": "display_data"
    }
   ],
   "source": [
    "rf=0\n",
    "fig, ax = plt.subplots(nrows=1, ncols=1, figsize=(10,6))\n",
    "\n",
    "plt.plot(evols, erets, 'b', lw=3.0, label='Effecient frontier')\n",
    "\n",
    "cx = np.linspace(0.0, 40.0)\n",
    "plt.plot(cx, opt[0] + opt[1] * cx, 'r', lw=1.5)\n",
    "\n",
    "plt.plot(opt[2], ret_tan, 'g*', markersize=15, label='Tangent Portfolio')\n",
    "plt.plot(vol_min, ret_min, 'r*', markersize=15.0, label='min vol. portfolio')\n",
    "\n",
    "# plot individual ETFs\n",
    "# for i,type in enumerate(FHS_label):\n",
    "#     x2 = math.sqrt(FHS_var[type]*252)\n",
    "#     y2 = FHS_mu[type]*252\n",
    "#     plt.scatter(x2, y2, marker='o')  \n",
    "#     plt.text(x2+0.05, y2+0.05, type, fontsize=9)\n",
    "\n",
    "\n",
    "plt.grid(True)\n",
    "axes = plt.gca()\n",
    "axes.set_xlim([0,20])\n",
    "axes.set_ylim([0,30])\n",
    "plt.xlabel('Annualized Expected Volatility, $\\%$')\n",
    "plt.ylabel('Annualized Expected Return, $\\%$')\n",
    "# plt.title('Annualized Portfolio FHS Return and Volatility')\n",
    "plt.legend()\n",
    "\n",
    "plt.savefig('FHS_tangent_port.png', dpi=300, bbox_inches='tight')"
   ]
  },
  {
   "cell_type": "markdown",
   "metadata": {},
   "source": [
    "\n",
    "# Conclusion"
   ]
  },
  {
   "cell_type": "code",
   "execution_count": 722,
   "metadata": {},
   "outputs": [],
   "source": [
    "# CONC_2 = conc_2.round(2)\n",
    "# print(CONC_2.astype(float).round(2).drop('Target return portfolio', axis=0).to_latex())"
   ]
  },
  {
   "cell_type": "markdown",
   "metadata": {},
   "source": [
    "# Backtest"
   ]
  },
  {
   "cell_type": "code",
   "execution_count": 723,
   "metadata": {},
   "outputs": [
    {
     "data": {
      "text/plain": [
       "<matplotlib.axes._subplots.AxesSubplot at 0x181423db3c8>"
      ]
     },
     "execution_count": 723,
     "metadata": {},
     "output_type": "execute_result"
    },
    {
     "data": {
      "image/png": "[encoded data removed]",
      "text/plain": [
       "<Figure size 432x288 with 1 Axes>"
      ]
     },
     "metadata": {
      "needs_background": "light"
     },
     "output_type": "display_data"
    }
   ],
   "source": [
    "train, test = rets[:-n_time], rets[-n_time : H] #H\n",
    "test.cumsum().plot()"
   ]
  },
  {
   "cell_type": "code",
   "execution_count": 724,
   "metadata": {},
   "outputs": [
    {
     "name": "stdout",
     "output_type": "stream",
     "text": [
      "Hist portfolio acc. return =  26.656078337955325\n",
      "FHS portfolio acc. return =  -7.8475807094426555\n"
     ]
    }
   ],
   "source": [
    "#Test period accumulated return\n",
    "hist_perform_ret = hist_w_tan.dot(test.cumsum().iloc[-1])\n",
    "print('Hist portfolio acc. return = ',hist_perform_ret*1/(n_time/252))\n",
    "\n",
    "FHS_perform_ret = FHS_w_tan.dot(test.cumsum().iloc[-1])\n",
    "print('FHS portfolio acc. return = ',FHS_perform_ret*1/(n_time/252))"
   ]
  },
  {
   "cell_type": "code",
   "execution_count": 725,
   "metadata": {},
   "outputs": [
    {
     "data": {
      "text/plain": [
       "1.6195326000435526"
      ]
     },
     "execution_count": 725,
     "metadata": {},
     "output_type": "execute_result"
    }
   ],
   "source": [
    "hist_w_tan.dot(test.cov().dot(hist_w_tan))"
   ]
  },
  {
   "cell_type": "code",
   "execution_count": 726,
   "metadata": {},
   "outputs": [
    {
     "data": {
      "text/plain": [
       "1.789424016773569"
      ]
     },
     "execution_count": 726,
     "metadata": {},
     "output_type": "execute_result"
    }
   ],
   "source": [
    "FHS_w_tan.dot(test.cov().dot(FHS_w_tan))"
   ]
  },
  {
   "cell_type": "code",
   "execution_count": null,
   "metadata": {},
   "outputs": [],
   "source": []
  },
  {
   "cell_type": "code",
   "execution_count": 700,
   "metadata": {},
   "outputs": [
    {
     "ename": "SyntaxError",
     "evalue": "invalid syntax (<ipython-input-700-1406ec676e88>, line 3)",
     "output_type": "error",
     "traceback": [
      "\u001b[1;36m  File \u001b[1;32m\"<ipython-input-700-1406ec676e88>\"\u001b[1;36m, line \u001b[1;32m3\u001b[0m\n\u001b[1;33m    Hist portfolio acc. return =  11.571274359634906\u001b[0m\n\u001b[1;37m                 ^\u001b[0m\n\u001b[1;31mSyntaxError\u001b[0m\u001b[1;31m:\u001b[0m invalid syntax\n"
     ]
    }
   ],
   "source": [
    "# 30- days horizon\n",
    "#100\n",
    "Hist portfolio acc. return =  11.571274359634906\n",
    "FHS portfolio acc. return =  39.8931489147672\n",
    "0.9019729718735479\n",
    "2.718600967648204\n",
    "\n",
    "# 120:\n",
    "Hist portfolio acc. return =  5.038517836622628\n",
    "FHS portfolio acc. return =  3.2610089159815496\n",
    "0.848260021127996\n",
    "0.49860629294059067\n",
    "\n",
    "# 150\n",
    "Hist portfolio acc. return =  20.85505777248605\n",
    "FHS portfolio acc. return =  18.221088932545946\n",
    "2.0777141462437507\n",
    "1.8621782685692136\n",
    "\n",
    "#200\n",
    "\n",
    "\n",
    "#250 \n",
    "\n",
    "\n",
    "#300\n",
    "Hist portfolio acc. return =  1.6063655024659689\n",
    "FHS portfolio acc. return =  0.8415404889540925\n",
    "3.5084938085672253\n",
    "0.727601984761591"
   ]
  },
  {
   "cell_type": "code",
   "execution_count": null,
   "metadata": {},
   "outputs": [],
   "source": []
  }
 ],
 "metadata": {
  "kernelspec": {
   "display_name": "Python 3",
   "language": "python",
   "name": "python3"
  },
  "language_info": {
   "codemirror_mode": {
    "name": "ipython",
    "version": 3
   },
   "file_extension": ".py",
   "mimetype": "text/x-python",
   "name": "python",
   "nbconvert_exporter": "python",
   "pygments_lexer": "ipython3",
   "version": "3.7.1"
  }
 },
 "nbformat": 4,
 "nbformat_minor": 2
}
